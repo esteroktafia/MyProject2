{
  "nbformat": 4,
  "nbformat_minor": 0,
  "metadata": {
    "colab": {
      "provenance": [],
      "authorship_tag": "ABX9TyP9nFKHKfmufzPhvbY4kTQC",
      "include_colab_link": true
    },
    "kernelspec": {
      "name": "python3",
      "display_name": "Python 3"
    },
    "language_info": {
      "name": "python"
    }
  },
  "cells": [
    {
      "cell_type": "markdown",
      "metadata": {
        "id": "view-in-github",
        "colab_type": "text"
      },
      "source": [
        "<a href=\"https://colab.research.google.com/github/esteroktafia/MyProject2/blob/main/Pre_Processing%20Dashboard%20Airbnb.ipynb\" target=\"_parent\"><img src=\"https://colab.research.google.com/assets/colab-badge.svg\" alt=\"Open In Colab\"/></a>"
      ]
    },
    {
      "cell_type": "markdown",
      "source": [
        "# Import Dataset"
      ],
      "metadata": {
        "id": "LyEXyUs476qe"
      }
    },
    {
      "cell_type": "code",
      "source": [
        "import scipy, json, gdown, itertools, pandas as pd, matplotlib.pyplot as plt, seaborn as sns, numpy as np, plotly.express as px\n",
        "from scipy import stats\n",
        "import statsmodels.api as sm\n",
        "\n",
        "import warnings\n",
        "warnings.filterwarnings('ignore')"
      ],
      "metadata": {
        "id": "X4Y5GjmJBw7O"
      },
      "execution_count": 3,
      "outputs": []
    },
    {
      "cell_type": "code",
      "execution_count": 4,
      "metadata": {
        "id": "G5s90P7b-8ci"
      },
      "outputs": [],
      "source": [
        "# Import dataset melalui google drive\n",
        "import pandas as pd\n",
        "listings = pd.read_csv(\"https://drive.google.com/uc?id=1PxMOZURkiG6wthI-h_uBH4pLxya9lhG8\", encoding = \"latin1\")\n",
        "hosts = pd.read_csv(\"https://drive.google.com/uc?id=1BIIxx2-P_JousRG2TXLTmsbkCtU6oZtw\", encoding = \"latin1\")\n",
        "reviews = pd.read_csv(\"https://drive.google.com/uc?id=1H89RKHJRhiG10coMyPXF2UDJ4jyD8r9s\", encoding = \"latin1\")"
      ]
    },
    {
      "cell_type": "markdown",
      "source": [
        "# Pre-Processing \"Listings\" Data"
      ],
      "metadata": {
        "id": "VBBZeQxu8n1s"
      }
    },
    {
      "cell_type": "code",
      "source": [
        "listings.sample(5)"
      ],
      "metadata": {
        "colab": {
          "base_uri": "https://localhost:8080/",
          "height": 397
        },
        "id": "cLdL1hlNC4zw",
        "outputId": "52e8e948-012f-4d1c-889a-1fff76b358a9"
      },
      "execution_count": 4,
      "outputs": [
        {
          "output_type": "execute_result",
          "data": {
            "text/plain": [
              "       listing_id                                      listings_name  \\\n",
              "11265    46270175                                      NYC Airbnb 5.   \n",
              "3823     17515391              1 BR Apartment in Brooklyn Brownstone   \n",
              "7246     34142214  Cozy home, away from home. 15 mins from downtown.   \n",
              "4589     21230082  ALL new modern apartment of 2 bedroom NYC styl...   \n",
              "10186    43628886         Comfortable room in Downtown Manhattan NYC   \n",
              "\n",
              "         host_id       neighbourhood   district      city  latitude  \\\n",
              "11265    1997143  Bedford-Stuyvesant   Brooklyn  New York  40.69381   \n",
              "3823    10896859         South Slope   Brooklyn  New York  40.66548   \n",
              "7246   196476281           Concourse      Bronx  New York  40.83117   \n",
              "4589   153419495     Upper East Side  Manhattan  New York  40.76178   \n",
              "10186  318750232           Chinatown  Manhattan  New York  40.71627   \n",
              "\n",
              "       longitude                       property_type     room_type  \\\n",
              "11265  -73.94571  Private room in serviced apartment  Private room   \n",
              "3823   -73.98201                    Entire apartment  Entire place   \n",
              "7246   -73.92218           Private room in apartment  Private room   \n",
              "4589   -73.96573                        Entire house  Entire place   \n",
              "10186  -73.99693           Private room in apartment  Private room   \n",
              "\n",
              "       accommodates  bedrooms  \\\n",
              "11265             2       1.0   \n",
              "3823              2       1.0   \n",
              "7246              2       1.0   \n",
              "4589              6       2.0   \n",
              "10186             2       1.0   \n",
              "\n",
              "                                               amenities  price  \\\n",
              "11265  [\"Nespresso machine\", \"Fireplace guards\", \"Ref...    135   \n",
              "3823   [\"Refrigerator\", \"Microwave\", \"Shampoo\", \"Air ...    114   \n",
              "7246   [\"Refrigerator\", \"Microwave\", \"Shampoo\", \"Air ...     65   \n",
              "4589   [\"Refrigerator\", \"Microwave\", \"Shampoo\", \"High...    278   \n",
              "10186  [\"Hair dryer\", \"Iron\", \"Essentials\", \"Hangers\"...     59   \n",
              "\n",
              "       minimum_nights  maximum_nights instant_bookable  \n",
              "11265               1            1125                t  \n",
              "3823                3              30                f  \n",
              "7246                1            1125                t  \n",
              "4589                2            1125                t  \n",
              "10186               1            1125                t  "
            ],
            "text/html": [
              "\n",
              "  <div id=\"df-6bc5a2d0-206f-405c-88e3-7a7bd9eca0e4\" class=\"colab-df-container\">\n",
              "    <div>\n",
              "<style scoped>\n",
              "    .dataframe tbody tr th:only-of-type {\n",
              "        vertical-align: middle;\n",
              "    }\n",
              "\n",
              "    .dataframe tbody tr th {\n",
              "        vertical-align: top;\n",
              "    }\n",
              "\n",
              "    .dataframe thead th {\n",
              "        text-align: right;\n",
              "    }\n",
              "</style>\n",
              "<table border=\"1\" class=\"dataframe\">\n",
              "  <thead>\n",
              "    <tr style=\"text-align: right;\">\n",
              "      <th></th>\n",
              "      <th>listing_id</th>\n",
              "      <th>listings_name</th>\n",
              "      <th>host_id</th>\n",
              "      <th>neighbourhood</th>\n",
              "      <th>district</th>\n",
              "      <th>city</th>\n",
              "      <th>latitude</th>\n",
              "      <th>longitude</th>\n",
              "      <th>property_type</th>\n",
              "      <th>room_type</th>\n",
              "      <th>accommodates</th>\n",
              "      <th>bedrooms</th>\n",
              "      <th>amenities</th>\n",
              "      <th>price</th>\n",
              "      <th>minimum_nights</th>\n",
              "      <th>maximum_nights</th>\n",
              "      <th>instant_bookable</th>\n",
              "    </tr>\n",
              "  </thead>\n",
              "  <tbody>\n",
              "    <tr>\n",
              "      <th>11265</th>\n",
              "      <td>46270175</td>\n",
              "      <td>NYC Airbnb 5.</td>\n",
              "      <td>1997143</td>\n",
              "      <td>Bedford-Stuyvesant</td>\n",
              "      <td>Brooklyn</td>\n",
              "      <td>New York</td>\n",
              "      <td>40.69381</td>\n",
              "      <td>-73.94571</td>\n",
              "      <td>Private room in serviced apartment</td>\n",
              "      <td>Private room</td>\n",
              "      <td>2</td>\n",
              "      <td>1.0</td>\n",
              "      <td>[\"Nespresso machine\", \"Fireplace guards\", \"Ref...</td>\n",
              "      <td>135</td>\n",
              "      <td>1</td>\n",
              "      <td>1125</td>\n",
              "      <td>t</td>\n",
              "    </tr>\n",
              "    <tr>\n",
              "      <th>3823</th>\n",
              "      <td>17515391</td>\n",
              "      <td>1 BR Apartment in Brooklyn Brownstone</td>\n",
              "      <td>10896859</td>\n",
              "      <td>South Slope</td>\n",
              "      <td>Brooklyn</td>\n",
              "      <td>New York</td>\n",
              "      <td>40.66548</td>\n",
              "      <td>-73.98201</td>\n",
              "      <td>Entire apartment</td>\n",
              "      <td>Entire place</td>\n",
              "      <td>2</td>\n",
              "      <td>1.0</td>\n",
              "      <td>[\"Refrigerator\", \"Microwave\", \"Shampoo\", \"Air ...</td>\n",
              "      <td>114</td>\n",
              "      <td>3</td>\n",
              "      <td>30</td>\n",
              "      <td>f</td>\n",
              "    </tr>\n",
              "    <tr>\n",
              "      <th>7246</th>\n",
              "      <td>34142214</td>\n",
              "      <td>Cozy home, away from home. 15 mins from downtown.</td>\n",
              "      <td>196476281</td>\n",
              "      <td>Concourse</td>\n",
              "      <td>Bronx</td>\n",
              "      <td>New York</td>\n",
              "      <td>40.83117</td>\n",
              "      <td>-73.92218</td>\n",
              "      <td>Private room in apartment</td>\n",
              "      <td>Private room</td>\n",
              "      <td>2</td>\n",
              "      <td>1.0</td>\n",
              "      <td>[\"Refrigerator\", \"Microwave\", \"Shampoo\", \"Air ...</td>\n",
              "      <td>65</td>\n",
              "      <td>1</td>\n",
              "      <td>1125</td>\n",
              "      <td>t</td>\n",
              "    </tr>\n",
              "    <tr>\n",
              "      <th>4589</th>\n",
              "      <td>21230082</td>\n",
              "      <td>ALL new modern apartment of 2 bedroom NYC styl...</td>\n",
              "      <td>153419495</td>\n",
              "      <td>Upper East Side</td>\n",
              "      <td>Manhattan</td>\n",
              "      <td>New York</td>\n",
              "      <td>40.76178</td>\n",
              "      <td>-73.96573</td>\n",
              "      <td>Entire house</td>\n",
              "      <td>Entire place</td>\n",
              "      <td>6</td>\n",
              "      <td>2.0</td>\n",
              "      <td>[\"Refrigerator\", \"Microwave\", \"Shampoo\", \"High...</td>\n",
              "      <td>278</td>\n",
              "      <td>2</td>\n",
              "      <td>1125</td>\n",
              "      <td>t</td>\n",
              "    </tr>\n",
              "    <tr>\n",
              "      <th>10186</th>\n",
              "      <td>43628886</td>\n",
              "      <td>Comfortable room in Downtown Manhattan NYC</td>\n",
              "      <td>318750232</td>\n",
              "      <td>Chinatown</td>\n",
              "      <td>Manhattan</td>\n",
              "      <td>New York</td>\n",
              "      <td>40.71627</td>\n",
              "      <td>-73.99693</td>\n",
              "      <td>Private room in apartment</td>\n",
              "      <td>Private room</td>\n",
              "      <td>2</td>\n",
              "      <td>1.0</td>\n",
              "      <td>[\"Hair dryer\", \"Iron\", \"Essentials\", \"Hangers\"...</td>\n",
              "      <td>59</td>\n",
              "      <td>1</td>\n",
              "      <td>1125</td>\n",
              "      <td>t</td>\n",
              "    </tr>\n",
              "  </tbody>\n",
              "</table>\n",
              "</div>\n",
              "    <div class=\"colab-df-buttons\">\n",
              "\n",
              "  <div class=\"colab-df-container\">\n",
              "    <button class=\"colab-df-convert\" onclick=\"convertToInteractive('df-6bc5a2d0-206f-405c-88e3-7a7bd9eca0e4')\"\n",
              "            title=\"Convert this dataframe to an interactive table.\"\n",
              "            style=\"display:none;\">\n",
              "\n",
              "  <svg xmlns=\"http://www.w3.org/2000/svg\" height=\"24px\" viewBox=\"0 -960 960 960\">\n",
              "    <path d=\"M120-120v-720h720v720H120Zm60-500h600v-160H180v160Zm220 220h160v-160H400v160Zm0 220h160v-160H400v160ZM180-400h160v-160H180v160Zm440 0h160v-160H620v160ZM180-180h160v-160H180v160Zm440 0h160v-160H620v160Z\"/>\n",
              "  </svg>\n",
              "    </button>\n",
              "\n",
              "  <style>\n",
              "    .colab-df-container {\n",
              "      display:flex;\n",
              "      gap: 12px;\n",
              "    }\n",
              "\n",
              "    .colab-df-convert {\n",
              "      background-color: #E8F0FE;\n",
              "      border: none;\n",
              "      border-radius: 50%;\n",
              "      cursor: pointer;\n",
              "      display: none;\n",
              "      fill: #1967D2;\n",
              "      height: 32px;\n",
              "      padding: 0 0 0 0;\n",
              "      width: 32px;\n",
              "    }\n",
              "\n",
              "    .colab-df-convert:hover {\n",
              "      background-color: #E2EBFA;\n",
              "      box-shadow: 0px 1px 2px rgba(60, 64, 67, 0.3), 0px 1px 3px 1px rgba(60, 64, 67, 0.15);\n",
              "      fill: #174EA6;\n",
              "    }\n",
              "\n",
              "    .colab-df-buttons div {\n",
              "      margin-bottom: 4px;\n",
              "    }\n",
              "\n",
              "    [theme=dark] .colab-df-convert {\n",
              "      background-color: #3B4455;\n",
              "      fill: #D2E3FC;\n",
              "    }\n",
              "\n",
              "    [theme=dark] .colab-df-convert:hover {\n",
              "      background-color: #434B5C;\n",
              "      box-shadow: 0px 1px 3px 1px rgba(0, 0, 0, 0.15);\n",
              "      filter: drop-shadow(0px 1px 2px rgba(0, 0, 0, 0.3));\n",
              "      fill: #FFFFFF;\n",
              "    }\n",
              "  </style>\n",
              "\n",
              "    <script>\n",
              "      const buttonEl =\n",
              "        document.querySelector('#df-6bc5a2d0-206f-405c-88e3-7a7bd9eca0e4 button.colab-df-convert');\n",
              "      buttonEl.style.display =\n",
              "        google.colab.kernel.accessAllowed ? 'block' : 'none';\n",
              "\n",
              "      async function convertToInteractive(key) {\n",
              "        const element = document.querySelector('#df-6bc5a2d0-206f-405c-88e3-7a7bd9eca0e4');\n",
              "        const dataTable =\n",
              "          await google.colab.kernel.invokeFunction('convertToInteractive',\n",
              "                                                    [key], {});\n",
              "        if (!dataTable) return;\n",
              "\n",
              "        const docLinkHtml = 'Like what you see? Visit the ' +\n",
              "          '<a target=\"_blank\" href=https://colab.research.google.com/notebooks/data_table.ipynb>data table notebook</a>'\n",
              "          + ' to learn more about interactive tables.';\n",
              "        element.innerHTML = '';\n",
              "        dataTable['output_type'] = 'display_data';\n",
              "        await google.colab.output.renderOutput(dataTable, element);\n",
              "        const docLink = document.createElement('div');\n",
              "        docLink.innerHTML = docLinkHtml;\n",
              "        element.appendChild(docLink);\n",
              "      }\n",
              "    </script>\n",
              "  </div>\n",
              "\n",
              "\n",
              "<div id=\"df-ee5e70f7-f646-4ea4-89c1-ea72f9c331c9\">\n",
              "  <button class=\"colab-df-quickchart\" onclick=\"quickchart('df-ee5e70f7-f646-4ea4-89c1-ea72f9c331c9')\"\n",
              "            title=\"Suggest charts\"\n",
              "            style=\"display:none;\">\n",
              "\n",
              "<svg xmlns=\"http://www.w3.org/2000/svg\" height=\"24px\"viewBox=\"0 0 24 24\"\n",
              "     width=\"24px\">\n",
              "    <g>\n",
              "        <path d=\"M19 3H5c-1.1 0-2 .9-2 2v14c0 1.1.9 2 2 2h14c1.1 0 2-.9 2-2V5c0-1.1-.9-2-2-2zM9 17H7v-7h2v7zm4 0h-2V7h2v10zm4 0h-2v-4h2v4z\"/>\n",
              "    </g>\n",
              "</svg>\n",
              "  </button>\n",
              "\n",
              "<style>\n",
              "  .colab-df-quickchart {\n",
              "      --bg-color: #E8F0FE;\n",
              "      --fill-color: #1967D2;\n",
              "      --hover-bg-color: #E2EBFA;\n",
              "      --hover-fill-color: #174EA6;\n",
              "      --disabled-fill-color: #AAA;\n",
              "      --disabled-bg-color: #DDD;\n",
              "  }\n",
              "\n",
              "  [theme=dark] .colab-df-quickchart {\n",
              "      --bg-color: #3B4455;\n",
              "      --fill-color: #D2E3FC;\n",
              "      --hover-bg-color: #434B5C;\n",
              "      --hover-fill-color: #FFFFFF;\n",
              "      --disabled-bg-color: #3B4455;\n",
              "      --disabled-fill-color: #666;\n",
              "  }\n",
              "\n",
              "  .colab-df-quickchart {\n",
              "    background-color: var(--bg-color);\n",
              "    border: none;\n",
              "    border-radius: 50%;\n",
              "    cursor: pointer;\n",
              "    display: none;\n",
              "    fill: var(--fill-color);\n",
              "    height: 32px;\n",
              "    padding: 0;\n",
              "    width: 32px;\n",
              "  }\n",
              "\n",
              "  .colab-df-quickchart:hover {\n",
              "    background-color: var(--hover-bg-color);\n",
              "    box-shadow: 0 1px 2px rgba(60, 64, 67, 0.3), 0 1px 3px 1px rgba(60, 64, 67, 0.15);\n",
              "    fill: var(--button-hover-fill-color);\n",
              "  }\n",
              "\n",
              "  .colab-df-quickchart-complete:disabled,\n",
              "  .colab-df-quickchart-complete:disabled:hover {\n",
              "    background-color: var(--disabled-bg-color);\n",
              "    fill: var(--disabled-fill-color);\n",
              "    box-shadow: none;\n",
              "  }\n",
              "\n",
              "  .colab-df-spinner {\n",
              "    border: 2px solid var(--fill-color);\n",
              "    border-color: transparent;\n",
              "    border-bottom-color: var(--fill-color);\n",
              "    animation:\n",
              "      spin 1s steps(1) infinite;\n",
              "  }\n",
              "\n",
              "  @keyframes spin {\n",
              "    0% {\n",
              "      border-color: transparent;\n",
              "      border-bottom-color: var(--fill-color);\n",
              "      border-left-color: var(--fill-color);\n",
              "    }\n",
              "    20% {\n",
              "      border-color: transparent;\n",
              "      border-left-color: var(--fill-color);\n",
              "      border-top-color: var(--fill-color);\n",
              "    }\n",
              "    30% {\n",
              "      border-color: transparent;\n",
              "      border-left-color: var(--fill-color);\n",
              "      border-top-color: var(--fill-color);\n",
              "      border-right-color: var(--fill-color);\n",
              "    }\n",
              "    40% {\n",
              "      border-color: transparent;\n",
              "      border-right-color: var(--fill-color);\n",
              "      border-top-color: var(--fill-color);\n",
              "    }\n",
              "    60% {\n",
              "      border-color: transparent;\n",
              "      border-right-color: var(--fill-color);\n",
              "    }\n",
              "    80% {\n",
              "      border-color: transparent;\n",
              "      border-right-color: var(--fill-color);\n",
              "      border-bottom-color: var(--fill-color);\n",
              "    }\n",
              "    90% {\n",
              "      border-color: transparent;\n",
              "      border-bottom-color: var(--fill-color);\n",
              "    }\n",
              "  }\n",
              "</style>\n",
              "\n",
              "  <script>\n",
              "    async function quickchart(key) {\n",
              "      const quickchartButtonEl =\n",
              "        document.querySelector('#' + key + ' button');\n",
              "      quickchartButtonEl.disabled = true;  // To prevent multiple clicks.\n",
              "      quickchartButtonEl.classList.add('colab-df-spinner');\n",
              "      try {\n",
              "        const charts = await google.colab.kernel.invokeFunction(\n",
              "            'suggestCharts', [key], {});\n",
              "      } catch (error) {\n",
              "        console.error('Error during call to suggestCharts:', error);\n",
              "      }\n",
              "      quickchartButtonEl.classList.remove('colab-df-spinner');\n",
              "      quickchartButtonEl.classList.add('colab-df-quickchart-complete');\n",
              "    }\n",
              "    (() => {\n",
              "      let quickchartButtonEl =\n",
              "        document.querySelector('#df-ee5e70f7-f646-4ea4-89c1-ea72f9c331c9 button');\n",
              "      quickchartButtonEl.style.display =\n",
              "        google.colab.kernel.accessAllowed ? 'block' : 'none';\n",
              "    })();\n",
              "  </script>\n",
              "</div>\n",
              "\n",
              "    </div>\n",
              "  </div>\n"
            ],
            "application/vnd.google.colaboratory.intrinsic+json": {
              "type": "dataframe",
              "summary": "{\n  \"name\": \"listings\",\n  \"rows\": 5,\n  \"fields\": [\n    {\n      \"column\": \"listing_id\",\n      \"properties\": {\n        \"dtype\": \"number\",\n        \"std\": 12919943,\n        \"min\": 17515391,\n        \"max\": 46270175,\n        \"num_unique_values\": 5,\n        \"samples\": [\n          17515391,\n          43628886,\n          34142214\n        ],\n        \"semantic_type\": \"\",\n        \"description\": \"\"\n      }\n    },\n    {\n      \"column\": \"listings_name\",\n      \"properties\": {\n        \"dtype\": \"string\",\n        \"num_unique_values\": 5,\n        \"samples\": [\n          \"1 BR Apartment in Brooklyn Brownstone\",\n          \"Comfortable room in Downtown Manhattan NYC\",\n          \"Cozy home, away from home. 15 mins from downtown.\"\n        ],\n        \"semantic_type\": \"\",\n        \"description\": \"\"\n      }\n    },\n    {\n      \"column\": \"host_id\",\n      \"properties\": {\n        \"dtype\": \"number\",\n        \"std\": 133196803,\n        \"min\": 1997143,\n        \"max\": 318750232,\n        \"num_unique_values\": 5,\n        \"samples\": [\n          10896859,\n          318750232,\n          196476281\n        ],\n        \"semantic_type\": \"\",\n        \"description\": \"\"\n      }\n    },\n    {\n      \"column\": \"neighbourhood\",\n      \"properties\": {\n        \"dtype\": \"string\",\n        \"num_unique_values\": 5,\n        \"samples\": [\n          \"South Slope\",\n          \"Chinatown\",\n          \"Concourse\"\n        ],\n        \"semantic_type\": \"\",\n        \"description\": \"\"\n      }\n    },\n    {\n      \"column\": \"district\",\n      \"properties\": {\n        \"dtype\": \"string\",\n        \"num_unique_values\": 3,\n        \"samples\": [\n          \"Brooklyn\",\n          \"Bronx\",\n          \"Manhattan\"\n        ],\n        \"semantic_type\": \"\",\n        \"description\": \"\"\n      }\n    },\n    {\n      \"column\": \"city\",\n      \"properties\": {\n        \"dtype\": \"category\",\n        \"num_unique_values\": 1,\n        \"samples\": [\n          \"New York\"\n        ],\n        \"semantic_type\": \"\",\n        \"description\": \"\"\n      }\n    },\n    {\n      \"column\": \"latitude\",\n      \"properties\": {\n        \"dtype\": \"number\",\n        \"std\": 0.06488041437907097,\n        \"min\": 40.66548,\n        \"max\": 40.83117,\n        \"num_unique_values\": 5,\n        \"samples\": [\n          40.66548\n        ],\n        \"semantic_type\": \"\",\n        \"description\": \"\"\n      }\n    },\n    {\n      \"column\": \"longitude\",\n      \"properties\": {\n        \"dtype\": \"number\",\n        \"std\": 0.029513148256330213,\n        \"min\": -73.99693,\n        \"max\": -73.92218,\n        \"num_unique_values\": 5,\n        \"samples\": [\n          -73.98201\n        ],\n        \"semantic_type\": \"\",\n        \"description\": \"\"\n      }\n    },\n    {\n      \"column\": \"property_type\",\n      \"properties\": {\n        \"dtype\": \"string\",\n        \"num_unique_values\": 4,\n        \"samples\": [\n          \"Entire apartment\"\n        ],\n        \"semantic_type\": \"\",\n        \"description\": \"\"\n      }\n    },\n    {\n      \"column\": \"room_type\",\n      \"properties\": {\n        \"dtype\": \"category\",\n        \"num_unique_values\": 2,\n        \"samples\": [\n          \"Entire place\"\n        ],\n        \"semantic_type\": \"\",\n        \"description\": \"\"\n      }\n    },\n    {\n      \"column\": \"accommodates\",\n      \"properties\": {\n        \"dtype\": \"number\",\n        \"std\": 1,\n        \"min\": 2,\n        \"max\": 6,\n        \"num_unique_values\": 2,\n        \"samples\": [\n          6\n        ],\n        \"semantic_type\": \"\",\n        \"description\": \"\"\n      }\n    },\n    {\n      \"column\": \"bedrooms\",\n      \"properties\": {\n        \"dtype\": \"number\",\n        \"std\": 0.4472135954999579,\n        \"min\": 1.0,\n        \"max\": 2.0,\n        \"num_unique_values\": 2,\n        \"samples\": [\n          2.0\n        ],\n        \"semantic_type\": \"\",\n        \"description\": \"\"\n      }\n    },\n    {\n      \"column\": \"amenities\",\n      \"properties\": {\n        \"dtype\": \"string\",\n        \"num_unique_values\": 5,\n        \"samples\": [\n          \"[\\\"Refrigerator\\\", \\\"Microwave\\\", \\\"Shampoo\\\", \\\"Air conditioning\\\", \\\"Kitchen\\\", \\\"Coffee maker\\\", \\\"Oven\\\", \\\"Iron\\\", \\\"Hangers\\\", \\\"Smoke alarm\\\", \\\"Dedicated workspace\\\", \\\"Fire extinguisher\\\", \\\"Hot water\\\", \\\"Long term stays allowed\\\", \\\"Extra pillows and blankets\\\", \\\"Lockbox\\\", \\\"Hair dryer\\\", \\\"Bed linens\\\", \\\"Essentials\\\", \\\"Dishes and silverware\\\", \\\"TV\\\", \\\"Wifi\\\", \\\"Cable TV\\\", \\\"Heating\\\", \\\"Cooking basics\\\", \\\"First aid kit\\\", \\\"Stove\\\", \\\"Carbon monoxide alarm\\\"]\"\n        ],\n        \"semantic_type\": \"\",\n        \"description\": \"\"\n      }\n    },\n    {\n      \"column\": \"price\",\n      \"properties\": {\n        \"dtype\": \"number\",\n        \"std\": 88,\n        \"min\": 59,\n        \"max\": 278,\n        \"num_unique_values\": 5,\n        \"samples\": [\n          114\n        ],\n        \"semantic_type\": \"\",\n        \"description\": \"\"\n      }\n    },\n    {\n      \"column\": \"minimum_nights\",\n      \"properties\": {\n        \"dtype\": \"number\",\n        \"std\": 0,\n        \"min\": 1,\n        \"max\": 3,\n        \"num_unique_values\": 3,\n        \"samples\": [\n          1\n        ],\n        \"semantic_type\": \"\",\n        \"description\": \"\"\n      }\n    },\n    {\n      \"column\": \"maximum_nights\",\n      \"properties\": {\n        \"dtype\": \"number\",\n        \"std\": 489,\n        \"min\": 30,\n        \"max\": 1125,\n        \"num_unique_values\": 2,\n        \"samples\": [\n          30\n        ],\n        \"semantic_type\": \"\",\n        \"description\": \"\"\n      }\n    },\n    {\n      \"column\": \"instant_bookable\",\n      \"properties\": {\n        \"dtype\": \"category\",\n        \"num_unique_values\": 2,\n        \"samples\": [\n          \"f\"\n        ],\n        \"semantic_type\": \"\",\n        \"description\": \"\"\n      }\n    }\n  ]\n}"
            }
          },
          "metadata": {},
          "execution_count": 4
        }
      ]
    },
    {
      "cell_type": "code",
      "source": [
        "# Cek tipe data: DataFrame (df)\n",
        "print(type(listings))\n",
        "# Ukuran data\n",
        "listings.shape"
      ],
      "metadata": {
        "colab": {
          "base_uri": "https://localhost:8080/"
        },
        "id": "NL2t9xMcACrz",
        "outputId": "1800d6f8-f670-4d15-8751-b87ce606a190"
      },
      "execution_count": 5,
      "outputs": [
        {
          "output_type": "stream",
          "name": "stdout",
          "text": [
            "<class 'pandas.core.frame.DataFrame'>\n"
          ]
        },
        {
          "output_type": "execute_result",
          "data": {
            "text/plain": [
              "(11849, 17)"
            ]
          },
          "metadata": {},
          "execution_count": 5
        }
      ]
    },
    {
      "cell_type": "code",
      "source": [
        "listings.columns"
      ],
      "metadata": {
        "colab": {
          "base_uri": "https://localhost:8080/"
        },
        "id": "Vip-5F4sAQVw",
        "outputId": "d74b1157-6dc5-47bd-8c09-f184ba46b1fe"
      },
      "execution_count": 6,
      "outputs": [
        {
          "output_type": "execute_result",
          "data": {
            "text/plain": [
              "Index(['listing_id', 'listings_name', 'host_id', 'neighbourhood', 'district',\n",
              "       'city', 'latitude', 'longitude', 'property_type', 'room_type',\n",
              "       'accommodates', 'bedrooms', 'amenities', 'price', 'minimum_nights',\n",
              "       'maximum_nights', 'instant_bookable'],\n",
              "      dtype='object')"
            ]
          },
          "metadata": {},
          "execution_count": 6
        }
      ]
    },
    {
      "cell_type": "code",
      "source": [
        "# Memeriksa apakah ada duplikat data\n",
        "duplicate_listings = listings[listings.duplicated(subset=['listing_id'], keep=False)]\n",
        "\n",
        "if not duplicate_listings.empty:\n",
        "  print(\"Terdapat data listings yang terduplikasi.:\")\n",
        "  print(duplicate_listings[['listing_id']])\n",
        "else:\n",
        "  print(\"Tidak terdapat data listings yang terduplikasi.\")"
      ],
      "metadata": {
        "colab": {
          "base_uri": "https://localhost:8080/"
        },
        "id": "l4Mr4PQg84xK",
        "outputId": "438c3d92-4511-4ab2-f9d0-a29b1e3e8f2f"
      },
      "execution_count": 7,
      "outputs": [
        {
          "output_type": "stream",
          "name": "stdout",
          "text": [
            "Tidak terdapat data listings yang terduplikasi.\n"
          ]
        }
      ]
    },
    {
      "cell_type": "code",
      "source": [
        "# Memeriksa tipe data pada tiap kolom\n",
        "listings.info()"
      ],
      "metadata": {
        "colab": {
          "base_uri": "https://localhost:8080/"
        },
        "id": "N_f-OxkVAcSi",
        "outputId": "3f66e225-92ea-4d6c-cae6-ff9419075e60"
      },
      "execution_count": 8,
      "outputs": [
        {
          "output_type": "stream",
          "name": "stdout",
          "text": [
            "<class 'pandas.core.frame.DataFrame'>\n",
            "RangeIndex: 11849 entries, 0 to 11848\n",
            "Data columns (total 17 columns):\n",
            " #   Column            Non-Null Count  Dtype  \n",
            "---  ------            --------------  -----  \n",
            " 0   listing_id        11849 non-null  int64  \n",
            " 1   listings_name     11849 non-null  object \n",
            " 2   host_id           11849 non-null  int64  \n",
            " 3   neighbourhood     11849 non-null  object \n",
            " 4   district          11849 non-null  object \n",
            " 5   city              11849 non-null  object \n",
            " 6   latitude          11849 non-null  float64\n",
            " 7   longitude         11849 non-null  float64\n",
            " 8   property_type     11849 non-null  object \n",
            " 9   room_type         11849 non-null  object \n",
            " 10  accommodates      11849 non-null  int64  \n",
            " 11  bedrooms          11849 non-null  float64\n",
            " 12  amenities         11849 non-null  object \n",
            " 13  price             11849 non-null  int64  \n",
            " 14  minimum_nights    11849 non-null  int64  \n",
            " 15  maximum_nights    11849 non-null  int64  \n",
            " 16  instant_bookable  11849 non-null  object \n",
            "dtypes: float64(3), int64(6), object(8)\n",
            "memory usage: 1.5+ MB\n"
          ]
        }
      ]
    },
    {
      "cell_type": "markdown",
      "source": [
        "Diketahui:\n",
        "- Terdapat 17 kolom dengan 11.849 baris. Artinya, terdapat 11.849 penginapan dalam data ini.\n",
        "- Tidak terdapat missing value.\n",
        "- Tidak terdapat data yang terduplikasi."
      ],
      "metadata": {
        "id": "Ul7xNakP84L1"
      }
    },
    {
      "cell_type": "code",
      "source": [
        "# Memeriksa district dalam data\n",
        "listings['district'].unique()"
      ],
      "metadata": {
        "colab": {
          "base_uri": "https://localhost:8080/"
        },
        "id": "Nbrif_7D-Iwg",
        "outputId": "0576bee3-7dd6-43c4-bd6a-24d427cf8c63"
      },
      "execution_count": 9,
      "outputs": [
        {
          "output_type": "execute_result",
          "data": {
            "text/plain": [
              "array(['Brooklyn', 'Manhattan', 'Queens', 'Staten Island', 'Bronx'],\n",
              "      dtype=object)"
            ]
          },
          "metadata": {},
          "execution_count": 9
        }
      ]
    },
    {
      "cell_type": "code",
      "source": [
        "# Unique values for 'property_type'\n",
        "unique_property_types = listings['property_type'].unique()\n",
        "print(\"Unique property types:\\n\", unique_property_types)\n",
        "\n",
        "# Unique values for 'room_type'\n",
        "unique_room_types = listings['room_type'].unique()\n",
        "print(\"\\nUnique room types:\\n\", unique_room_types)"
      ],
      "metadata": {
        "colab": {
          "base_uri": "https://localhost:8080/"
        },
        "id": "RFfKaFLRf6S6",
        "outputId": "6a62483a-a813-4af2-d2ff-495fbe2dd7cb"
      },
      "execution_count": 10,
      "outputs": [
        {
          "output_type": "stream",
          "name": "stdout",
          "text": [
            "Unique property types:\n",
            " ['Entire guest suite' 'Private room in apartment'\n",
            " 'Private room in townhouse' 'Entire apartment' 'Entire loft'\n",
            " 'Private room in house' 'Entire condominium'\n",
            " 'Private room in condominium' 'Private room in loft' 'Entire townhouse'\n",
            " 'Entire house' 'Entire guesthouse' 'Room in boutique hotel'\n",
            " 'Shared room in apartment' 'Private room in bed and breakfast'\n",
            " 'Shared room in house' 'Room in aparthotel' 'Entire serviced apartment'\n",
            " 'Shared room in earth house' 'Shared room in hostel'\n",
            " 'Private room in hostel' 'Private room in guesthouse' 'Entire cottage'\n",
            " 'Shared room in condominium' 'Private room in guest suite'\n",
            " 'Room in serviced apartment' 'Private room'\n",
            " 'Private room in serviced apartment' 'Shared room in loft'\n",
            " 'Room in hotel' 'Shared room in townhouse' 'Entire floor' 'Houseboat'\n",
            " 'Private room in villa' 'Entire villa' 'Entire place'\n",
            " 'Shared room in guest suite' 'Private room in resort' 'Entire bungalow'\n",
            " 'Tiny house' 'Entire home/apt' 'Private room in tiny house'\n",
            " 'Private room in tent' 'Shared room in serviced apartment'\n",
            " 'Private room in barn' 'Camper/RV' 'Private room in bungalow' 'Boat'\n",
            " 'Entire resort' 'Shared room in island' 'Private room in earth house'\n",
            " 'Shared room in bed and breakfast' 'Private room in camper/rv' 'Barn']\n",
            "\n",
            "Unique room types:\n",
            " ['Entire place' 'Private room' 'Hotel room' 'Shared room']\n"
          ]
        }
      ]
    },
    {
      "cell_type": "markdown",
      "source": [
        "Diketahui:\n",
        "- Terdapat empat room types, yaitu entire place, private room, hotel room, dan shared room.\n",
        "- Terdapat berbagai property types, seperti entire guest suite, private room in apartment, dan lainnya."
      ],
      "metadata": {
        "id": "JztCTuKI-xdW"
      }
    },
    {
      "cell_type": "code",
      "source": [
        "# Boxplot price\n",
        "\n",
        "fig, axes = plt.subplots(1, 3, figsize=(20, 5))\n",
        "\n",
        "sns.boxplot(y=listings['price'], ax=axes[0])\n",
        "axes[0].set_title('Boxplot of Price')\n",
        "\n",
        "sns.boxplot(x=listings['room_type'], y=listings['price'], ax=axes[1])\n",
        "axes[1].set_title('Boxplot of Price by Room Type')\n",
        "axes[1].set_xticklabels(axes[1].get_xticklabels(), rotation=45, ha='right')\n",
        "\n",
        "sns.boxplot(x=listings['property_type'], y=listings['price'], ax=axes[2])\n",
        "axes[2].set_title('Boxplot of Price by Property Type')\n",
        "axes[2].set_xticklabels(axes[2].get_xticklabels(), rotation=90, ha='right')\n",
        "\n",
        "plt.tight_layout()\n",
        "plt.show()"
      ],
      "metadata": {
        "colab": {
          "base_uri": "https://localhost:8080/",
          "height": 527
        },
        "id": "gWO3N0Uk9Z_K",
        "outputId": "fd722216-0013-4a69-d426-6ffd05b1ce79"
      },
      "execution_count": 14,
      "outputs": [
        {
          "output_type": "display_data",
          "data": {
            "text/plain": [
              "<Figure size 2000x500 with 3 Axes>"
            ],
            "image/png": "[encoded data removed]"
          },
          "metadata": {}
        }
      ]
    },
    {
      "cell_type": "markdown",
      "source": [
        "Terlihat pada boxplot-boxplot di atas bahwa harga pada listings memiliki banyak outlier. Oleh karena itu, pada dashboard, dibanding menggunakan \"average price\", akan digunakan \"median price\" karena lebih representatif."
      ],
      "metadata": {
        "id": "wJ3-NDxE9rgh"
      }
    },
    {
      "cell_type": "markdown",
      "source": [
        "# Pre-Processing \"Hosts\" Data"
      ],
      "metadata": {
        "id": "U8zUZmMXFGQp"
      }
    },
    {
      "cell_type": "code",
      "source": [
        "hosts.head()"
      ],
      "metadata": {
        "colab": {
          "base_uri": "https://localhost:8080/",
          "height": 206
        },
        "outputId": "4d29273d-2f80-45dc-f395-6db1d6b28491",
        "id": "vNLFPUAXFGQq"
      },
      "execution_count": 5,
      "outputs": [
        {
          "output_type": "execute_result",
          "data": {
            "text/plain": [
              "   host_id  host_since                      host_location  host_response_time  \\\n",
              "0     2571  2008-08-27  Brooklyn, New York, United States  within a few hours   \n",
              "1     2782  2008-09-07  New York, New York, United States        within a day   \n",
              "2     2787  2008-09-07  New York, New York, United States      within an hour   \n",
              "3     2868  2008-09-10  New York, New York, United States        within a day   \n",
              "4     2881  2008-09-10                 Brooklyn, New York      within an hour   \n",
              "\n",
              "   host_response_rate  host_acceptance_rate host_is_superhost  \\\n",
              "0                0.93                  0.67                 t   \n",
              "1                1.00                  0.57                 t   \n",
              "2                1.00                  0.97                 t   \n",
              "3                1.00                  0.00                 f   \n",
              "4                1.00                  0.95                 t   \n",
              "\n",
              "   host_total_listings_count host_has_profile_pic host_identity_verified  \n",
              "0                        1.0                    t                      t  \n",
              "1                        2.0                    t                      t  \n",
              "2                        8.0                    t                      f  \n",
              "3                        1.0                    t                      f  \n",
              "4                        5.0                    t                      t  "
            ],
            "text/html": [
              "\n",
              "  <div id=\"df-47a72a70-735c-45da-9a8b-3895406a3e0f\" class=\"colab-df-container\">\n",
              "    <div>\n",
              "<style scoped>\n",
              "    .dataframe tbody tr th:only-of-type {\n",
              "        vertical-align: middle;\n",
              "    }\n",
              "\n",
              "    .dataframe tbody tr th {\n",
              "        vertical-align: top;\n",
              "    }\n",
              "\n",
              "    .dataframe thead th {\n",
              "        text-align: right;\n",
              "    }\n",
              "</style>\n",
              "<table border=\"1\" class=\"dataframe\">\n",
              "  <thead>\n",
              "    <tr style=\"text-align: right;\">\n",
              "      <th></th>\n",
              "      <th>host_id</th>\n",
              "      <th>host_since</th>\n",
              "      <th>host_location</th>\n",
              "      <th>host_response_time</th>\n",
              "      <th>host_response_rate</th>\n",
              "      <th>host_acceptance_rate</th>\n",
              "      <th>host_is_superhost</th>\n",
              "      <th>host_total_listings_count</th>\n",
              "      <th>host_has_profile_pic</th>\n",
              "      <th>host_identity_verified</th>\n",
              "    </tr>\n",
              "  </thead>\n",
              "  <tbody>\n",
              "    <tr>\n",
              "      <th>0</th>\n",
              "      <td>2571</td>\n",
              "      <td>2008-08-27</td>\n",
              "      <td>Brooklyn, New York, United States</td>\n",
              "      <td>within a few hours</td>\n",
              "      <td>0.93</td>\n",
              "      <td>0.67</td>\n",
              "      <td>t</td>\n",
              "      <td>1.0</td>\n",
              "      <td>t</td>\n",
              "      <td>t</td>\n",
              "    </tr>\n",
              "    <tr>\n",
              "      <th>1</th>\n",
              "      <td>2782</td>\n",
              "      <td>2008-09-07</td>\n",
              "      <td>New York, New York, United States</td>\n",
              "      <td>within a day</td>\n",
              "      <td>1.00</td>\n",
              "      <td>0.57</td>\n",
              "      <td>t</td>\n",
              "      <td>2.0</td>\n",
              "      <td>t</td>\n",
              "      <td>t</td>\n",
              "    </tr>\n",
              "    <tr>\n",
              "      <th>2</th>\n",
              "      <td>2787</td>\n",
              "      <td>2008-09-07</td>\n",
              "      <td>New York, New York, United States</td>\n",
              "      <td>within an hour</td>\n",
              "      <td>1.00</td>\n",
              "      <td>0.97</td>\n",
              "      <td>t</td>\n",
              "      <td>8.0</td>\n",
              "      <td>t</td>\n",
              "      <td>f</td>\n",
              "    </tr>\n",
              "    <tr>\n",
              "      <th>3</th>\n",
              "      <td>2868</td>\n",
              "      <td>2008-09-10</td>\n",
              "      <td>New York, New York, United States</td>\n",
              "      <td>within a day</td>\n",
              "      <td>1.00</td>\n",
              "      <td>0.00</td>\n",
              "      <td>f</td>\n",
              "      <td>1.0</td>\n",
              "      <td>t</td>\n",
              "      <td>f</td>\n",
              "    </tr>\n",
              "    <tr>\n",
              "      <th>4</th>\n",
              "      <td>2881</td>\n",
              "      <td>2008-09-10</td>\n",
              "      <td>Brooklyn, New York</td>\n",
              "      <td>within an hour</td>\n",
              "      <td>1.00</td>\n",
              "      <td>0.95</td>\n",
              "      <td>t</td>\n",
              "      <td>5.0</td>\n",
              "      <td>t</td>\n",
              "      <td>t</td>\n",
              "    </tr>\n",
              "  </tbody>\n",
              "</table>\n",
              "</div>\n",
              "    <div class=\"colab-df-buttons\">\n",
              "\n",
              "  <div class=\"colab-df-container\">\n",
              "    <button class=\"colab-df-convert\" onclick=\"convertToInteractive('df-47a72a70-735c-45da-9a8b-3895406a3e0f')\"\n",
              "            title=\"Convert this dataframe to an interactive table.\"\n",
              "            style=\"display:none;\">\n",
              "\n",
              "  <svg xmlns=\"http://www.w3.org/2000/svg\" height=\"24px\" viewBox=\"0 -960 960 960\">\n",
              "    <path d=\"M120-120v-720h720v720H120Zm60-500h600v-160H180v160Zm220 220h160v-160H400v160Zm0 220h160v-160H400v160ZM180-400h160v-160H180v160Zm440 0h160v-160H620v160ZM180-180h160v-160H180v160Zm440 0h160v-160H620v160Z\"/>\n",
              "  </svg>\n",
              "    </button>\n",
              "\n",
              "  <style>\n",
              "    .colab-df-container {\n",
              "      display:flex;\n",
              "      gap: 12px;\n",
              "    }\n",
              "\n",
              "    .colab-df-convert {\n",
              "      background-color: #E8F0FE;\n",
              "      border: none;\n",
              "      border-radius: 50%;\n",
              "      cursor: pointer;\n",
              "      display: none;\n",
              "      fill: #1967D2;\n",
              "      height: 32px;\n",
              "      padding: 0 0 0 0;\n",
              "      width: 32px;\n",
              "    }\n",
              "\n",
              "    .colab-df-convert:hover {\n",
              "      background-color: #E2EBFA;\n",
              "      box-shadow: 0px 1px 2px rgba(60, 64, 67, 0.3), 0px 1px 3px 1px rgba(60, 64, 67, 0.15);\n",
              "      fill: #174EA6;\n",
              "    }\n",
              "\n",
              "    .colab-df-buttons div {\n",
              "      margin-bottom: 4px;\n",
              "    }\n",
              "\n",
              "    [theme=dark] .colab-df-convert {\n",
              "      background-color: #3B4455;\n",
              "      fill: #D2E3FC;\n",
              "    }\n",
              "\n",
              "    [theme=dark] .colab-df-convert:hover {\n",
              "      background-color: #434B5C;\n",
              "      box-shadow: 0px 1px 3px 1px rgba(0, 0, 0, 0.15);\n",
              "      filter: drop-shadow(0px 1px 2px rgba(0, 0, 0, 0.3));\n",
              "      fill: #FFFFFF;\n",
              "    }\n",
              "  </style>\n",
              "\n",
              "    <script>\n",
              "      const buttonEl =\n",
              "        document.querySelector('#df-47a72a70-735c-45da-9a8b-3895406a3e0f button.colab-df-convert');\n",
              "      buttonEl.style.display =\n",
              "        google.colab.kernel.accessAllowed ? 'block' : 'none';\n",
              "\n",
              "      async function convertToInteractive(key) {\n",
              "        const element = document.querySelector('#df-47a72a70-735c-45da-9a8b-3895406a3e0f');\n",
              "        const dataTable =\n",
              "          await google.colab.kernel.invokeFunction('convertToInteractive',\n",
              "                                                    [key], {});\n",
              "        if (!dataTable) return;\n",
              "\n",
              "        const docLinkHtml = 'Like what you see? Visit the ' +\n",
              "          '<a target=\"_blank\" href=https://colab.research.google.com/notebooks/data_table.ipynb>data table notebook</a>'\n",
              "          + ' to learn more about interactive tables.';\n",
              "        element.innerHTML = '';\n",
              "        dataTable['output_type'] = 'display_data';\n",
              "        await google.colab.output.renderOutput(dataTable, element);\n",
              "        const docLink = document.createElement('div');\n",
              "        docLink.innerHTML = docLinkHtml;\n",
              "        element.appendChild(docLink);\n",
              "      }\n",
              "    </script>\n",
              "  </div>\n",
              "\n",
              "\n",
              "<div id=\"df-be6b3973-8630-4fff-ba8e-3e2f922c425c\">\n",
              "  <button class=\"colab-df-quickchart\" onclick=\"quickchart('df-be6b3973-8630-4fff-ba8e-3e2f922c425c')\"\n",
              "            title=\"Suggest charts\"\n",
              "            style=\"display:none;\">\n",
              "\n",
              "<svg xmlns=\"http://www.w3.org/2000/svg\" height=\"24px\"viewBox=\"0 0 24 24\"\n",
              "     width=\"24px\">\n",
              "    <g>\n",
              "        <path d=\"M19 3H5c-1.1 0-2 .9-2 2v14c0 1.1.9 2 2 2h14c1.1 0 2-.9 2-2V5c0-1.1-.9-2-2-2zM9 17H7v-7h2v7zm4 0h-2V7h2v10zm4 0h-2v-4h2v4z\"/>\n",
              "    </g>\n",
              "</svg>\n",
              "  </button>\n",
              "\n",
              "<style>\n",
              "  .colab-df-quickchart {\n",
              "      --bg-color: #E8F0FE;\n",
              "      --fill-color: #1967D2;\n",
              "      --hover-bg-color: #E2EBFA;\n",
              "      --hover-fill-color: #174EA6;\n",
              "      --disabled-fill-color: #AAA;\n",
              "      --disabled-bg-color: #DDD;\n",
              "  }\n",
              "\n",
              "  [theme=dark] .colab-df-quickchart {\n",
              "      --bg-color: #3B4455;\n",
              "      --fill-color: #D2E3FC;\n",
              "      --hover-bg-color: #434B5C;\n",
              "      --hover-fill-color: #FFFFFF;\n",
              "      --disabled-bg-color: #3B4455;\n",
              "      --disabled-fill-color: #666;\n",
              "  }\n",
              "\n",
              "  .colab-df-quickchart {\n",
              "    background-color: var(--bg-color);\n",
              "    border: none;\n",
              "    border-radius: 50%;\n",
              "    cursor: pointer;\n",
              "    display: none;\n",
              "    fill: var(--fill-color);\n",
              "    height: 32px;\n",
              "    padding: 0;\n",
              "    width: 32px;\n",
              "  }\n",
              "\n",
              "  .colab-df-quickchart:hover {\n",
              "    background-color: var(--hover-bg-color);\n",
              "    box-shadow: 0 1px 2px rgba(60, 64, 67, 0.3), 0 1px 3px 1px rgba(60, 64, 67, 0.15);\n",
              "    fill: var(--button-hover-fill-color);\n",
              "  }\n",
              "\n",
              "  .colab-df-quickchart-complete:disabled,\n",
              "  .colab-df-quickchart-complete:disabled:hover {\n",
              "    background-color: var(--disabled-bg-color);\n",
              "    fill: var(--disabled-fill-color);\n",
              "    box-shadow: none;\n",
              "  }\n",
              "\n",
              "  .colab-df-spinner {\n",
              "    border: 2px solid var(--fill-color);\n",
              "    border-color: transparent;\n",
              "    border-bottom-color: var(--fill-color);\n",
              "    animation:\n",
              "      spin 1s steps(1) infinite;\n",
              "  }\n",
              "\n",
              "  @keyframes spin {\n",
              "    0% {\n",
              "      border-color: transparent;\n",
              "      border-bottom-color: var(--fill-color);\n",
              "      border-left-color: var(--fill-color);\n",
              "    }\n",
              "    20% {\n",
              "      border-color: transparent;\n",
              "      border-left-color: var(--fill-color);\n",
              "      border-top-color: var(--fill-color);\n",
              "    }\n",
              "    30% {\n",
              "      border-color: transparent;\n",
              "      border-left-color: var(--fill-color);\n",
              "      border-top-color: var(--fill-color);\n",
              "      border-right-color: var(--fill-color);\n",
              "    }\n",
              "    40% {\n",
              "      border-color: transparent;\n",
              "      border-right-color: var(--fill-color);\n",
              "      border-top-color: var(--fill-color);\n",
              "    }\n",
              "    60% {\n",
              "      border-color: transparent;\n",
              "      border-right-color: var(--fill-color);\n",
              "    }\n",
              "    80% {\n",
              "      border-color: transparent;\n",
              "      border-right-color: var(--fill-color);\n",
              "      border-bottom-color: var(--fill-color);\n",
              "    }\n",
              "    90% {\n",
              "      border-color: transparent;\n",
              "      border-bottom-color: var(--fill-color);\n",
              "    }\n",
              "  }\n",
              "</style>\n",
              "\n",
              "  <script>\n",
              "    async function quickchart(key) {\n",
              "      const quickchartButtonEl =\n",
              "        document.querySelector('#' + key + ' button');\n",
              "      quickchartButtonEl.disabled = true;  // To prevent multiple clicks.\n",
              "      quickchartButtonEl.classList.add('colab-df-spinner');\n",
              "      try {\n",
              "        const charts = await google.colab.kernel.invokeFunction(\n",
              "            'suggestCharts', [key], {});\n",
              "      } catch (error) {\n",
              "        console.error('Error during call to suggestCharts:', error);\n",
              "      }\n",
              "      quickchartButtonEl.classList.remove('colab-df-spinner');\n",
              "      quickchartButtonEl.classList.add('colab-df-quickchart-complete');\n",
              "    }\n",
              "    (() => {\n",
              "      let quickchartButtonEl =\n",
              "        document.querySelector('#df-be6b3973-8630-4fff-ba8e-3e2f922c425c button');\n",
              "      quickchartButtonEl.style.display =\n",
              "        google.colab.kernel.accessAllowed ? 'block' : 'none';\n",
              "    })();\n",
              "  </script>\n",
              "</div>\n",
              "\n",
              "    </div>\n",
              "  </div>\n"
            ],
            "application/vnd.google.colaboratory.intrinsic+json": {
              "type": "dataframe",
              "variable_name": "hosts",
              "summary": "{\n  \"name\": \"hosts\",\n  \"rows\": 7401,\n  \"fields\": [\n    {\n      \"column\": \"host_id\",\n      \"properties\": {\n        \"dtype\": \"number\",\n        \"std\": 113255536,\n        \"min\": 2571,\n        \"max\": 384572643,\n        \"num_unique_values\": 7401,\n        \"samples\": [\n          263720409,\n          135272642,\n          28779108\n        ],\n        \"semantic_type\": \"\",\n        \"description\": \"\"\n      }\n    },\n    {\n      \"column\": \"host_since\",\n      \"properties\": {\n        \"dtype\": \"object\",\n        \"num_unique_values\": 3244,\n        \"samples\": [\n          \"2018-10-01\",\n          \"2020-08-03\",\n          \"2014-01-25\"\n        ],\n        \"semantic_type\": \"\",\n        \"description\": \"\"\n      }\n    },\n    {\n      \"column\": \"host_location\",\n      \"properties\": {\n        \"dtype\": \"category\",\n        \"num_unique_values\": 396,\n        \"samples\": [\n          \"Barcelona, Catalu\\u00c3\\u0083\\u00c2\\u0083\\u00c3\\u0082\\u00c2\\u00b1a, Spain\",\n          \"Mamaroneck, New York, United States\",\n          \"London, Ontario, Canada\"\n        ],\n        \"semantic_type\": \"\",\n        \"description\": \"\"\n      }\n    },\n    {\n      \"column\": \"host_response_time\",\n      \"properties\": {\n        \"dtype\": \"category\",\n        \"num_unique_values\": 4,\n        \"samples\": [\n          \"within a day\",\n          \"a few days or more\",\n          \"within a few hours\"\n        ],\n        \"semantic_type\": \"\",\n        \"description\": \"\"\n      }\n    },\n    {\n      \"column\": \"host_response_rate\",\n      \"properties\": {\n        \"dtype\": \"number\",\n        \"std\": 0.23549914906334998,\n        \"min\": 0.0,\n        \"max\": 1.0,\n        \"num_unique_values\": 73,\n        \"samples\": [\n          0.75,\n          0.44,\n          0.4\n        ],\n        \"semantic_type\": \"\",\n        \"description\": \"\"\n      }\n    },\n    {\n      \"column\": \"host_acceptance_rate\",\n      \"properties\": {\n        \"dtype\": \"number\",\n        \"std\": 0.26361683775443867,\n        \"min\": 0.0,\n        \"max\": 1.0,\n        \"num_unique_values\": 97,\n        \"samples\": [\n          0.54,\n          0.55,\n          0.09\n        ],\n        \"semantic_type\": \"\",\n        \"description\": \"\"\n      }\n    },\n    {\n      \"column\": \"host_is_superhost\",\n      \"properties\": {\n        \"dtype\": \"category\",\n        \"num_unique_values\": 2,\n        \"samples\": [\n          \"f\",\n          \"t\"\n        ],\n        \"semantic_type\": \"\",\n        \"description\": \"\"\n      }\n    },\n    {\n      \"column\": \"host_total_listings_count\",\n      \"properties\": {\n        \"dtype\": \"number\",\n        \"std\": 40.343335019822554,\n        \"min\": 0.0,\n        \"max\": 2739.0,\n        \"num_unique_values\": 65,\n        \"samples\": [\n          22.0,\n          116.0\n        ],\n        \"semantic_type\": \"\",\n        \"description\": \"\"\n      }\n    },\n    {\n      \"column\": \"host_has_profile_pic\",\n      \"properties\": {\n        \"dtype\": \"category\",\n        \"num_unique_values\": 2,\n        \"samples\": [\n          \"f\",\n          \"t\"\n        ],\n        \"semantic_type\": \"\",\n        \"description\": \"\"\n      }\n    },\n    {\n      \"column\": \"host_identity_verified\",\n      \"properties\": {\n        \"dtype\": \"category\",\n        \"num_unique_values\": 2,\n        \"samples\": [\n          \"f\",\n          \"t\"\n        ],\n        \"semantic_type\": \"\",\n        \"description\": \"\"\n      }\n    }\n  ]\n}"
            }
          },
          "metadata": {},
          "execution_count": 5
        }
      ]
    },
    {
      "cell_type": "code",
      "source": [
        "# Cek tipe data: DataFrame (df)\n",
        "print(type(hosts))\n",
        "# Ukuran data\n",
        "hosts.shape"
      ],
      "metadata": {
        "colab": {
          "base_uri": "https://localhost:8080/"
        },
        "outputId": "e1957210-2f3a-44ff-ddbb-a305bcdb8ab2",
        "id": "pgGmlkwqFGQq"
      },
      "execution_count": 16,
      "outputs": [
        {
          "output_type": "stream",
          "name": "stdout",
          "text": [
            "<class 'pandas.core.frame.DataFrame'>\n"
          ]
        },
        {
          "output_type": "execute_result",
          "data": {
            "text/plain": [
              "(7401, 10)"
            ]
          },
          "metadata": {},
          "execution_count": 16
        }
      ]
    },
    {
      "cell_type": "code",
      "source": [
        "hosts.columns"
      ],
      "metadata": {
        "colab": {
          "base_uri": "https://localhost:8080/"
        },
        "outputId": "34d66580-7b88-4c65-c1b5-160adfcf5418",
        "id": "sHCibCWvFGQq"
      },
      "execution_count": 17,
      "outputs": [
        {
          "output_type": "execute_result",
          "data": {
            "text/plain": [
              "Index(['host_id', 'host_since', 'host_location', 'host_response_time',\n",
              "       'host_response_rate', 'host_acceptance_rate', 'host_is_superhost',\n",
              "       'host_total_listings_count', 'host_has_profile_pic',\n",
              "       'host_identity_verified'],\n",
              "      dtype='object')"
            ]
          },
          "metadata": {},
          "execution_count": 17
        }
      ]
    },
    {
      "cell_type": "code",
      "source": [
        "# Memeriksa apakah ada duplikat data\n",
        "duplicate_hosts = hosts[hosts.duplicated(subset=['host_id'], keep=False)]\n",
        "\n",
        "if not duplicate_hosts.empty:\n",
        "  print(\"Terdapat data hosts yang terduplikasi.:\")\n",
        "  print(duplicate_hosts[['host_id']])\n",
        "else:\n",
        "  print(\"Tidak terdapat data hosts yang terduplikasi.\")"
      ],
      "metadata": {
        "colab": {
          "base_uri": "https://localhost:8080/"
        },
        "outputId": "8dfd0426-5c94-4d17-8115-d03517f916a3",
        "id": "D-rL3R1AFGQq"
      },
      "execution_count": 18,
      "outputs": [
        {
          "output_type": "stream",
          "name": "stdout",
          "text": [
            "Tidak terdapat data hosts yang terduplikasi.\n"
          ]
        }
      ]
    },
    {
      "cell_type": "code",
      "source": [
        "# Memeriksa tipe data pada tiap kolom\n",
        "hosts.info()"
      ],
      "metadata": {
        "colab": {
          "base_uri": "https://localhost:8080/"
        },
        "outputId": "2f5568ab-6074-4277-813c-32d9791b949e",
        "id": "xBNAlaOzFGQq"
      },
      "execution_count": 19,
      "outputs": [
        {
          "output_type": "stream",
          "name": "stdout",
          "text": [
            "<class 'pandas.core.frame.DataFrame'>\n",
            "RangeIndex: 7401 entries, 0 to 7400\n",
            "Data columns (total 10 columns):\n",
            " #   Column                     Non-Null Count  Dtype  \n",
            "---  ------                     --------------  -----  \n",
            " 0   host_id                    7401 non-null   int64  \n",
            " 1   host_since                 7401 non-null   object \n",
            " 2   host_location              7401 non-null   object \n",
            " 3   host_response_time         7401 non-null   object \n",
            " 4   host_response_rate         7401 non-null   float64\n",
            " 5   host_acceptance_rate       7401 non-null   float64\n",
            " 6   host_is_superhost          7401 non-null   object \n",
            " 7   host_total_listings_count  7401 non-null   float64\n",
            " 8   host_has_profile_pic       7401 non-null   object \n",
            " 9   host_identity_verified     7401 non-null   object \n",
            "dtypes: float64(3), int64(1), object(6)\n",
            "memory usage: 578.3+ KB\n"
          ]
        }
      ]
    },
    {
      "cell_type": "markdown",
      "source": [
        "Diketahui:\n",
        "- Terdapat 10 kolom dengan 7.401 baris. Artinya, terdapat 7.401 pemilik penginapan dalam data ini.\n",
        "- Tidak terdapat missing value.\n",
        "- Tidak terdapat data yang terduplikasi."
      ],
      "metadata": {
        "id": "cY5BI-WiFGQr"
      }
    },
    {
      "cell_type": "code",
      "source": [
        "# Memeriksa response time of hosts dalam data\n",
        "hosts['host_response_time'].unique()"
      ],
      "metadata": {
        "colab": {
          "base_uri": "https://localhost:8080/"
        },
        "outputId": "08692439-f413-43ca-97e2-4615dd606b67",
        "id": "vNOub1rYFGQr"
      },
      "execution_count": 20,
      "outputs": [
        {
          "output_type": "execute_result",
          "data": {
            "text/plain": [
              "array(['within a few hours', 'within a day', 'within an hour',\n",
              "       'a few days or more'], dtype=object)"
            ]
          },
          "metadata": {},
          "execution_count": 20
        }
      ]
    },
    {
      "cell_type": "code",
      "source": [
        "# Unique values for host_location\n",
        "\n",
        "unique_host_locations = hosts['host_location'].unique()\n",
        "print(\"Unique host locations:\\n\", unique_host_locations)"
      ],
      "metadata": {
        "colab": {
          "base_uri": "https://localhost:8080/"
        },
        "id": "bOt3jgg2-jy4",
        "outputId": "00544b8d-9282-4754-c7f9-5e735d7d645e"
      },
      "execution_count": 12,
      "outputs": [
        {
          "output_type": "stream",
          "name": "stdout",
          "text": [
            "Unique host locations:\n",
            " ['Brooklyn, New York, United States' 'New York, New York, United States'\n",
            " 'Brooklyn, New York' 'San Francisco, California, United States' 'US'\n",
            " 'Los Angeles, California, United States'\n",
            " 'Chicago, Illinois, United States' 'Vancouver, British Columbia, Canada'\n",
            " 'Europe' 'Berkeley, California, United States'\n",
            " 'Longmont, Colorado, United States' 'Queens, New York, United States'\n",
            " 'San Miguel de Allende, Guanajuato, Mexico'\n",
            " 'Stockholm, Stockholm, Sweden'\n",
            " 'Philadelphia, Pennsylvania, United States' 'New York, United States'\n",
            " 'San Diego, California, United States'\n",
            " 'Newburgh, New York, United States' 'Brooklyn, NY'\n",
            " 'Waukee, Iowa, United States' 'United States'\n",
            " 'London, England, United Kingdom' 'Italy, New York, United States'\n",
            " 'New Orleans, Louisiana, United States'\n",
            " 'Maroubra, New South Wales, Australia'\n",
            " 'East Hampton, New York, United States'\n",
            " 'Staten Island, New York, United States'\n",
            " 'Boston, Massachusetts, United States'\n",
            " 'Homestead, Florida, United States' 'New Jersey, United States'\n",
            " 'Bergen, Hordaland, Norway' 'Port Chester, New York, United States'\n",
            " 'United Kingdom' 'Rockaway' 'Stockholm' 'Massachusetts, United States'\n",
            " 'Cupertino, California, United States'\n",
            " 'Bloomfield, New Jersey, United States'\n",
            " 'Jersey City, New Jersey, United States'\n",
            " 'Santa Monica, California, United States'\n",
            " 'South Burlington, Vermont, United States' 'Lisbon, Lisbon, Portugal'\n",
            " 'Las Vegas, Nevada, United States' 'Brooklyn, USA'\n",
            " 'Great Neck, New York, United States' 'Malibu, California, United States'\n",
            " 'Washington, District of Columbia, United States'\n",
            " \"Mouans-Sartoux, Provence-Alpes-CÃ\\x83Â\\x83Ã\\x82Â´te d'Azur, France\"\n",
            " 'Worthington, Ohio, United States' 'Jessup, Maryland, United States'\n",
            " 'New York, New York' 'Hamden, New York, United States'\n",
            " 'Stockholm, Stockholm County, Sweden'\n",
            " 'New Milford, New Jersey, United States'\n",
            " 'Los Cerrillos, New Mexico, United States' 'Bogota, Bogota, Colombia'\n",
            " 'Miami, Florida, United States' 'Connecticut, United States'\n",
            " 'Nashville, Tennessee, United States' 'Norway' 'California'\n",
            " 'Portsmouth, New Hampshire, United States'\n",
            " 'Pine Hill, New York, United States' 'London, United Kingdom'\n",
            " 'Paterson, New Jersey, United States' 'Austin, Texas, United States'\n",
            " 'Ann Arbor, Michigan, United States' 'France' 'Athens, Attica, Greece'\n",
            " 'Dix Hills, New York, United States' 'Media, Pennsylvania, United States'\n",
            " 'Wyandanch, New York, United States' 'Lincoln, Vermont, United States'\n",
            " 'Sydney, New South Wales, Australia' 'Manhattan, New York'\n",
            " 'Munich, Bayern, Germany'\n",
            " 'Brooklyn, New York, United States and Neversink (120 miles from city)'\n",
            " 'Atlanta, Georgia, United States'\n",
            " 'Barcelona, CataluÃ\\x83Â\\x83Ã\\x82Â±a, Spain'\n",
            " 'Oakland, California, United States' 'Pittsford, New York, United States'\n",
            " 'BROOKLYN' 'Greenwich, Connecticut, United States'\n",
            " 'Plainfield, New Jersey, United States' 'St thomas Virgin Islands'\n",
            " 'London' 'Seattle, Washington, United States'\n",
            " 'Miami Beach, Florida, United States'\n",
            " 'Johannesburg, Gauteng, South Africa'\n",
            " 'Union City, New Jersey, United States'\n",
            " 'Weehawken, New Jersey, United States' 'Bilbao, Basque Country, Spain'\n",
            " 'California, United States' 'Tel Aviv, Israel' 'Switzerland'\n",
            " 'NYC; Paris, France; Dutchess County, NY' 'Stowe, Vermont, United States'\n",
            " 'Warwick, New York, United States' 'Geneva, Geneva, Switzerland'\n",
            " 'Wiang, Chiang Rai, Thailand' 'Stuttgart, Baden-Wurttemberg, Germany'\n",
            " 'South Windsor, Connecticut, United States' 'Montreal, Quebec, Canada'\n",
            " 'Tel Aviv-Yafo, Tel Aviv District, Israel' 'Paris, Ile-de-France, France'\n",
            " 'Bronx, New York, United States' 'Madrid, Community of Madrid, Spain'\n",
            " 'BrasÃ\\x83Â\\x83Ã\\x82Â\\xadlia, Federal District, Brazil'\n",
            " 'West Milford, New Jersey, United States' 'Nuremberg, Bavaria, Germany'\n",
            " 'New Haven, Connecticut, United States'\n",
            " 'Pittsburgh, Pennsylvania, United States'\n",
            " 'Acton, Massachusetts, United States'\n",
            " 'Umalas, Bali- Indonesia, New York, Guatemala'\n",
            " 'Tucson, Arizona, United States' 'Vermont, United States' 'AU'\n",
            " 'Elmwood Park, New Jersey, United States' 'Cordoba, Cordoba, Argentina'\n",
            " 'Red Hook, New York, United States'\n",
            " 'Hillsborough, California, United States' 'Naples, Campania, Italy'\n",
            " 'Chicago, USA/London, UK' 'Des Moines, Iowa, United States'\n",
            " 'Saratoga Springs, New York, United States' 'east to west'\n",
            " 'The Hague, South Holland, The Netherlands'\n",
            " 'Asbury Park, New Jersey, United States'\n",
            " 'Krakow, Lesser Poland Voivodeship, Poland'\n",
            " 'Tampa, Florida, United States' 'Vienna, Vienna, Austria'\n",
            " 'Stockton, California, United States' 'Berlin, Berlin, Germany'\n",
            " 'Rochester, New York, United States'\n",
            " 'Santo Domingo, National District, Dominican Republic'\n",
            " 'Long Beach, New York, United States' 'Rome, Lazio, Italy'\n",
            " 'Brussels, Brussels, Belgium'\n",
            " 'Rio de Janeiro, State of Rio de Janeiro, Brazil'\n",
            " 'Sunny Isles Beach, Florida, United States'\n",
            " 'New City, New York, United States' 'Canton, Connecticut, United States'\n",
            " 'Cape Coral, Florida, United States'\n",
            " 'La Tablada, Buenos Aires, Argentina'\n",
            " 'Charlotte, North Carolina, United States'\n",
            " 'Florida, New York, United States' 'Richmond, Virginia, United States'\n",
            " 'Sycamore, Illinois, United States' 'Antioquia, Colombia'\n",
            " 'Milan, Lombardy, Italy' 'CA' 'Cairo, New York, United States' 'PR'\n",
            " 'Italy' 'Leesburg, Virginia, United States'\n",
            " 'Dallas, Georgia, United States' 'Leiden, Zuid-Holland, Netherlands'\n",
            " 'Boca Raton, Florida, United States' 'La Tebaida, Quindio, Colombia'\n",
            " 'Westbury, New York, United States' 'Brisbane, Queensland, Australia'\n",
            " 'Toronto, Ontario, Canada' 'Florida, United States' 'Seoul, Korea'\n",
            " 'Elgin, Illinois, United States' 'Pismo Beach, California, United States'\n",
            " 'Silver Spring, Maryland, United States' 'Turin, Piedmont, Italy'\n",
            " 'Baltimore, Maryland, United States'\n",
            " 'Punta del Diablo, Rocha Department, Uruguay' 'New York/London' 'Brazil'\n",
            " 'Charleston, South Carolina, United States' 'Bormio, Lombardy, Italy'\n",
            " 'Scarsdale, New York, United States'\n",
            " 'Saint Petersburg, Florida, United States'\n",
            " 'Bologna, Emilia-Romagna, Italy'\n",
            " 'Port-Saint-PÃ\\x83Â\\x83Ã\\x82Â¨re, Pays de la Loire, France'\n",
            " 'Princeton, New Jersey, United States' 'Portland, Oregon, United States'\n",
            " 'Palo Alto, California, United States'\n",
            " 'Hawthorne, New Jersey, United States'\n",
            " 'The Bronx, New York, United States'\n",
            " 'Gibbsboro, New Jersey, United States' 'Portland, Maine, United States'\n",
            " 'Summerville, South Carolina, United States'\n",
            " 'Mississauga, Ontario, Canada' 'Coral Springs, Florida, United States'\n",
            " 'Capitol Heights, Maryland, United States'\n",
            " 'Wilmington, Delaware, United States'\n",
            " 'Wallingford, Connecticut, United States'\n",
            " 'Middletown, Connecticut, United States'\n",
            " 'Clifton, New Jersey, United States'\n",
            " 'Clifton Park, New York, United States' 'Hawaii, United States'\n",
            " 'California, US' 'Accord, New York, United States'\n",
            " 'Golden, Colorado, United States' 'Portugal'\n",
            " 'Dallas, Texas, United States' 'South Africa and New York'\n",
            " 'Baldwin, New York, United States' 'PT'\n",
            " 'Scranton, Pennsylvania, United States' 'Houston, Texas, United States'\n",
            " 'Gold Coast, Queensland' 'Sellersville, Pennsylvania, United States'\n",
            " 'Bangkok, Thailand' 'Millstone, New Jersey, United States'\n",
            " 'Resplendent Residence in heart of Harlem revival'\n",
            " 'Saint Louis, Missouri, United States' 'Bronx NY'\n",
            " 'Floral Park, New York, United States'\n",
            " 'Belo Horizonte, State of Minas Gerais, Brazil'\n",
            " 'Suffolk County, New York' 'Middlebury, Indiana, United States'\n",
            " 'Roslyn, New York, United States'\n",
            " 'Washington Crossing, Pennsylvania, United States' 'Israel'\n",
            " 'Bronx, New York' 'Albany, New York, United States'\n",
            " 'Amherst, Massachusetts, United States'\n",
            " 'Yucca Valley, California, United States' 'Havana, Havana, Cuba'\n",
            " 'Yorba Linda, California, United States'\n",
            " 'Cincinnati, Ohio, United States' 'Haiti'\n",
            " 'Jupiter, Florida, United States'\n",
            " 'Bethlehem, Pennsylvania, United States'\n",
            " 'Teaneck, New Jersey, United States'\n",
            " 'Lexington, Massachusetts, United States'\n",
            " 'McLean, Virginia, United States' 'Fort Collins, Colorado, United States'\n",
            " 'Englewood Cliffs, New Jersey, United States'\n",
            " 'Maine, New York, United States' 'Stamford, Connecticut, United States'\n",
            " 'Deer Park, New York, United States' 'Saint Ann Parish, Jamaica'\n",
            " 'Savannah, Georgia, United States' 'Hartford, Connecticut, United States'\n",
            " 'Tokyo, Japan' 'Zhongzheng District, Taipei City, Taiwan'\n",
            " 'New Castle, Delaware, United States'\n",
            " 'Plainview, New York, United States'\n",
            " 'South Orange, New Jersey, United States'\n",
            " 'Buffalo, New York, United States' 'Tewksbury, New Jersey, United States'\n",
            " 'Fayetteville, Georgia, United States' 'Guayaquil, Guayas, Ecuador'\n",
            " 'Valley Stream, New York, United States' 'London, Ontario, Canada'\n",
            " 'Eagle Lake, Maine, United States' 'LaPlace, Louisiana, United States'\n",
            " 'ES' 'Kailua-Kona, Hawaii, United States'\n",
            " 'Port of Spain, Port of Spain Corporation, Trinidad and Tobago'\n",
            " 'Buenos Aires, Autonomous City of Buenos Aires, Argentina'\n",
            " 'Elmont, New York, United States' 'Willemstad, Curacao, Curacao'\n",
            " 'Utah, United States' 'Elda, Valencian Community, Spain'\n",
            " 'Georgetown, Delaware, United States'\n",
            " 'Cape Town, Western Cape, South Africa' 'CL'\n",
            " 'Halton Hills, Ontario, Canada' 'Midway, Utah, United States'\n",
            " 'Statesboro, Georgia, United States' 'Jericho, New York, United States'\n",
            " 'Santo Domingo Este, Santo Domingo Province, Dominican Republic'\n",
            " 'Valencia, Valencian Community, Spain'\n",
            " 'New London, Connecticut, United States' 'Delhi, Delhi, India'\n",
            " 'Ardsley, New York, United States' 'Montauk, New York, United States'\n",
            " 'Florence Township, New Jersey, United States'\n",
            " 'East Stroudsburg, Pennsylvania, United States' 'GB'\n",
            " 'Mamaroneck, New York, United States'\n",
            " 'Greenwood Lake, New York, United States' 'PH'\n",
            " 'Garden Prairie, Illinois, United States'\n",
            " 'Terre Haute, Indiana, United States'\n",
            " 'Albuquerque, New Mexico, United States'\n",
            " 'Surf City, North Carolina, United States' 'Agropoli, Campania, Italy'\n",
            " 'Hackensack, New Jersey, United States'\n",
            " 'Fort Myers, Florida, United States' 'Booming Bushwick'\n",
            " 'Holtsville, New York, United States'\n",
            " 'Shrewsbury, New Jersey, United States' 'Maracaibo, Zulia, Venezuela'\n",
            " 'Larchmont, New York, United States' 'Merrick, New York, United States'\n",
            " 'Freehold, New Jersey, United States'\n",
            " 'Wilton, Connecticut, United States' 'Castel Goffredo, Lombardy, Italy'\n",
            " 'NY, NY & anywhere the world takes me!!!'\n",
            " 'Mauregard, Ile-de-France, France'\n",
            " 'Vitacura, Santiago Metropolitan Region, Chile'\n",
            " 'Villa Lugano, Buenos Aires, Argentina'\n",
            " 'Heathrow, Florida, United States'\n",
            " 'Franklin Square, New York, United States'\n",
            " 'Port Washington, New York, United States'\n",
            " 'West New York, New Jersey, United States'\n",
            " 'Manhasset, New York, United States'\n",
            " 'Mastic Beach, New York, United States'\n",
            " 'Plainsboro Township, New Jersey, United States'\n",
            " 'South Farmingdale, New York, United States'\n",
            " 'Los Gatos, California, United States'\n",
            " 'Bloomfield Hills, Michigan, United States'\n",
            " 'Cartagena, BolÃ\\x83Â\\x83Ã\\x82Â\\xadvar, Colombia'\n",
            " 'Commack, New York, United States' 'Belleair, Florida, United States'\n",
            " 'Island Park, New York, United States' 'New York, Iowa, United States'\n",
            " 'Park Ridge, New Jersey, United States'\n",
            " 'Yonkers, New York, United States'\n",
            " 'Providence, Rhode Island, United States'\n",
            " 'White Plains, New York, United States' 'Jabbeke, Flanders, Belgium'\n",
            " 'Claremont, New Hampshire, United States'\n",
            " 'Stoughton, Massachusetts, United States'\n",
            " 'Beverly Hills, California, United States' 'Jamaica'\n",
            " 'Deerfield Beach, Florida, United States' 'JP'\n",
            " 'Uniondale, New York, United States'\n",
            " 'Naucalpan de Juarez, State of Mexico, Mexico'\n",
            " 'Sanford, North Carolina, United States'\n",
            " 'Englewood, New Jersey, United States'\n",
            " 'Burbank, California, United States' 'Denver, Colorado, United States'\n",
            " 'West Babylon, New York, United States' 'ZA' 'JM'\n",
            " 'Franklin Township, New Jersey, United States' 'DE'\n",
            " 'New Delhi, Delhi, India' 'Bossier City, Louisiana, United States'\n",
            " 'Montclair, New Jersey, United States'\n",
            " 'Port-au-Prince, Ouest Department, Haiti'\n",
            " 'Freeport, New York, United States' 'Pinheiros, Sao Paulo, Brazil'\n",
            " 'Pompano Beach, Florida, United States'\n",
            " 'Winter Haven, Florida, United States' 'RU'\n",
            " 'Salisbury, Connecticut, United States' 'FR'\n",
            " 'Barnstable, Massachusetts, United States'\n",
            " 'Clinton Corners, New York, United States' 'IL'\n",
            " 'Saddle River, New Jersey, United States' 'Bowie, Texas, United States'\n",
            " 'Rhode Island, United States' '46 W 17th Street, New York, NY'\n",
            " 'Alicante, Valencian Community, Spain'\n",
            " 'Newark, New Jersey, United States' 'UY' 'Lima, Callao Region, Peru'\n",
            " 'Hallandale Beach, Florida, United States'\n",
            " 'Parrish, Florida, United States' 'Bedford, New York, United States'\n",
            " 'Saint-Cloud, Ile-de-France, France' 'UA' 'NI' 'GH' 'PE'\n",
            " 'Hackettstown, New Jersey, United States'\n",
            " 'Woodinville, Washington, United States' 'AM'\n",
            " 'Bengaluru, Karnataka, India' 'Modesto, California, United States'\n",
            " 'Boalsburg, Pennsylvania, United States'\n",
            " 'Boulder, Colorado, United States'\n",
            " 'Atlantic Beach, New York, United States'\n",
            " 'Georgetown, Colorado, United States'\n",
            " 'Fort Lee, New Jersey, United States' 'Woodbury, New York, United States'\n",
            " 'BR' 'KR' 'Troy, New York, United States'\n",
            " 'Sao Paulo, State of Sao Paulo, Brazil'\n",
            " 'Edgewater, New Jersey, United States' 'TR'\n",
            " 'Buena Park, California, United States' 'Sevran, Ile-de-France, France'\n",
            " 'CN' 'IT' 'Largo, Florida, United States' 'CR'\n",
            " 'Lutz, Florida, United States' 'NP' 'Mumbai, Maharashtra, India' 'VE'\n",
            " 'Denville, New Jersey, United States' 'GT']\n"
          ]
        }
      ]
    },
    {
      "cell_type": "markdown",
      "source": [
        "Terlihat bahwa kolom host_location masih sangat kotor karena berisi berbagai deskripsi lokasi yang tidak konsisten, seperti nama kota, negara bagian, istilah umum, bahkan hanya deskripsi. Hal ini menyebabkan kesulitan dalam mengekstrak nama negara secara akurat dan konsisten. Sehingga akan dibuat kolom baru yaitu host_country."
      ],
      "metadata": {
        "id": "9WPKdurpFGQr"
      }
    },
    {
      "cell_type": "code",
      "source": [
        "# Fungsi untuk mengekstrak negara dari kolom host_location\n",
        "def extract_country(location):\n",
        "    if pd.isnull(location):\n",
        "        return None\n",
        "    if 'east to west' in location.lower():\n",
        "        return None\n",
        "\n",
        "    # Pisahkan berdasarkan koma dan ambil kata terakhir yang dianggap sebagai negara\n",
        "    parts = location.split(',')\n",
        "    country = parts[-1].strip() if len(parts) > 1 else location\n",
        "\n",
        "    # Bersihkan negara atau wilayah berdasarkan mapping\n",
        "    country_mapping = {\n",
        "        'United States': 'US', 'US': 'US', 'California': 'US', 'New York': 'US',\n",
        "        'Illinois': 'US', 'Washington': 'US', 'Colorado': 'US', 'Florida': 'US',\n",
        "        'Texas': 'US', 'Massachusetts': 'US', 'Connecticut': 'US', 'Georgia': 'US',\n",
        "        'Vermont': 'US', 'Maryland': 'US', 'New Jersey': 'US', 'Iowa': 'US',\n",
        "        'Pennsylvania': 'US', 'Virginia': 'US', 'Ohio': 'US', 'North Carolina': 'US',\n",
        "        'South Carolina': 'US', 'Hawaii': 'US', 'Utah': 'US', 'Arizona': 'US',\n",
        "        'Michigan': 'US', 'Nevada': 'US', 'Delaware': 'US', 'Rhode Island': 'US',\n",
        "        'New Hampshire': 'US', 'Indiana': 'US', 'Louisiana': 'US', 'Missouri': 'US',\n",
        "        'South Dakota': 'US', 'Kansas': 'US', 'Alaska': 'US', 'NY': 'US', 'USA': 'US',\n",
        "        'United States and Neversink (120 miles from city)': 'US', 'BROOKLYN': 'US',\n",
        "        'St thomas Virgin Islands': 'US', 'New York/London' : 'US',\n",
        "        'South Africa and New York' : 'US', 'Resplendent Residence in heart of Harlem revival' : 'US',\n",
        "        'Bronx NY' : 'US', 'Booming Bushwick' : 'US', 'NY & anywhere the world takes me!!!' : 'US',\n",
        "        'The Netherlands' : 'Netherlands', 'Rockaway': 'US', 'Queensland': 'Australia',\n",
        "        'Canada': 'Canada', 'CA': 'Canada', 'United Kingdom': 'United Kingdom',\n",
        "        'UK': 'United Kingdom', 'GB': 'United Kingdom', 'DE': 'Germany', 'AU': 'Australia',\n",
        "        'KR': 'South Korea', 'ES': 'Spain', 'FR': 'France', 'BR': 'Brazil', 'IT': 'Italy',\n",
        "        'PT': 'Portugal', 'JM': 'Jamaica', 'ZA': 'South Africa', 'GH': 'Ghana', 'PE': 'Peru',\n",
        "        'JP': 'Japan', 'IN': 'India', 'RU': 'Russia', 'UY': 'Uruguay', 'NI': 'Nicaragua',\n",
        "        'VE': 'Venezuela', 'GT': 'Guatemala', 'UA': 'Ukraine', 'AM': 'Armenia', 'IL': 'Israel',\n",
        "        'CH': 'Switzerland', 'TR': 'Turkey', 'NP': 'Nepal', 'CR': 'Costa Rica', 'CL': 'Chile',\n",
        "        'PH': 'Philippines', 'CN': 'China', 'PR' : 'Puerto Rico', 'London': 'United Kingdom',\n",
        "        'Stockholm': 'Sweden', 'Seoul, Korea' : 'South Korea', 'Korea': 'South Korea',\n",
        "    }\n",
        "\n",
        "    return country_mapping.get(country, country)\n",
        "\n",
        "# Terapkan fungsi untuk membuat kolom cleaned host_country\n",
        "hosts['host_country'] = hosts['host_location'].apply(extract_country)\n",
        "\n",
        "print(hosts[['host_location', 'host_country']].head())"
      ],
      "metadata": {
        "colab": {
          "base_uri": "https://localhost:8080/"
        },
        "id": "mzA65_8wBREU",
        "outputId": "a6f882e6-d3c4-4aad-d265-5b35d0183d28"
      },
      "execution_count": 21,
      "outputs": [
        {
          "output_type": "stream",
          "name": "stdout",
          "text": [
            "                       host_location host_country\n",
            "0  Brooklyn, New York, United States           US\n",
            "1  New York, New York, United States           US\n",
            "2  New York, New York, United States           US\n",
            "3  New York, New York, United States           US\n",
            "4                 Brooklyn, New York           US\n"
          ]
        }
      ]
    },
    {
      "cell_type": "code",
      "source": [
        "# Memeriksa country hosts dalam data\n",
        "hosts['host_country'].unique()"
      ],
      "metadata": {
        "colab": {
          "base_uri": "https://localhost:8080/"
        },
        "id": "hwxgw2nKByqx",
        "outputId": "bd737512-dfcc-4b08-da4d-ce9dff3f6386"
      },
      "execution_count": 22,
      "outputs": [
        {
          "output_type": "execute_result",
          "data": {
            "text/plain": [
              "array(['US', 'Canada', 'Europe', 'Mexico', 'Sweden', 'United Kingdom',\n",
              "       'Australia', 'Norway', 'Portugal', 'France', 'Colombia', 'Greece',\n",
              "       'Germany', 'Spain', 'South Africa', 'Israel', 'Switzerland',\n",
              "       'Thailand', 'Brazil', 'Guatemala', 'Argentina', 'Italy', None,\n",
              "       'Netherlands', 'Poland', 'Austria', 'Dominican Republic',\n",
              "       'Belgium', 'Puerto Rico', 'South Korea', 'Uruguay', 'Cuba',\n",
              "       'Haiti', 'Jamaica', 'Japan', 'Taiwan', 'Ecuador',\n",
              "       'Trinidad and Tobago', 'Curacao', 'Chile', 'India', 'Philippines',\n",
              "       'Venezuela', 'Russia', 'Peru', 'Ukraine', 'Nicaragua', 'Ghana',\n",
              "       'Armenia', 'Turkey', 'China', 'Costa Rica', 'Nepal'], dtype=object)"
            ]
          },
          "metadata": {},
          "execution_count": 22
        }
      ]
    },
    {
      "cell_type": "code",
      "source": [
        "# Create a new DataFrame with 'host_id' and 'host_country'\n",
        "new_df = hosts[['host_id', 'host_country']].copy()\n",
        "\n",
        "# Download the DataFrame as a CSV file\n",
        "from google.colab import files\n",
        "new_df.to_csv('host_country.csv', encoding='utf-8', index=False)\n",
        "files.download('host_country.csv')"
      ],
      "metadata": {
        "colab": {
          "base_uri": "https://localhost:8080/",
          "height": 17
        },
        "id": "PXMCT6TcIRHE",
        "outputId": "b7ee02cc-337f-452d-b669-52e859a3956e"
      },
      "execution_count": 24,
      "outputs": [
        {
          "output_type": "display_data",
          "data": {
            "text/plain": [
              "<IPython.core.display.Javascript object>"
            ],
            "application/javascript": [
              "\n",
              "    async function download(id, filename, size) {\n",
              "      if (!google.colab.kernel.accessAllowed) {\n",
              "        return;\n",
              "      }\n",
              "      const div = document.createElement('div');\n",
              "      const label = document.createElement('label');\n",
              "      label.textContent = `Downloading \"${filename}\": `;\n",
              "      div.appendChild(label);\n",
              "      const progress = document.createElement('progress');\n",
              "      progress.max = size;\n",
              "      div.appendChild(progress);\n",
              "      document.body.appendChild(div);\n",
              "\n",
              "      const buffers = [];\n",
              "      let downloaded = 0;\n",
              "\n",
              "      const channel = await google.colab.kernel.comms.open(id);\n",
              "      // Send a message to notify the kernel that we're ready.\n",
              "      channel.send({})\n",
              "\n",
              "      for await (const message of channel.messages) {\n",
              "        // Send a message to notify the kernel that we're ready.\n",
              "        channel.send({})\n",
              "        if (message.buffers) {\n",
              "          for (const buffer of message.buffers) {\n",
              "            buffers.push(buffer);\n",
              "            downloaded += buffer.byteLength;\n",
              "            progress.value = downloaded;\n",
              "          }\n",
              "        }\n",
              "      }\n",
              "      const blob = new Blob(buffers, {type: 'application/binary'});\n",
              "      const a = document.createElement('a');\n",
              "      a.href = window.URL.createObjectURL(blob);\n",
              "      a.download = filename;\n",
              "      div.appendChild(a);\n",
              "      a.click();\n",
              "      div.remove();\n",
              "    }\n",
              "  "
            ]
          },
          "metadata": {}
        },
        {
          "output_type": "display_data",
          "data": {
            "text/plain": [
              "<IPython.core.display.Javascript object>"
            ],
            "application/javascript": [
              "download(\"download_b069ed44-4ad6-4b8c-8b77-1bdb88867ee1\", \"host_country.csv\", 89921)"
            ]
          },
          "metadata": {}
        }
      ]
    },
    {
      "cell_type": "markdown",
      "source": [
        "# Pre-Processing \"Reviews\" Data"
      ],
      "metadata": {
        "id": "EL1MQuj8_vJO"
      }
    },
    {
      "cell_type": "code",
      "source": [
        "reviews.head()"
      ],
      "metadata": {
        "colab": {
          "base_uri": "https://localhost:8080/",
          "height": 206
        },
        "outputId": "28dbd5bd-a27a-49d3-8ee2-42abd2a7fa22",
        "id": "O5uoz7Xs_vJP"
      },
      "execution_count": 23,
      "outputs": [
        {
          "output_type": "execute_result",
          "data": {
            "text/plain": [
              "   review_id  listing_id  reviewer_id  review_scores_rating  \\\n",
              "0       1743        5803         9868                  94.0   \n",
              "1       2091        5178         8443                  84.0   \n",
              "2       2767        5803        16345                  94.0   \n",
              "3       3015        5178        15642                  84.0   \n",
              "4       3549        5803        19091                  94.0   \n",
              "\n",
              "   review_scores_accuracy  review_scores_cleanliness  review_scores_checkin  \\\n",
              "0                    10.0                       10.0                   10.0   \n",
              "1                     9.0                        8.0                    9.0   \n",
              "2                    10.0                       10.0                   10.0   \n",
              "3                     9.0                        8.0                    9.0   \n",
              "4                    10.0                       10.0                   10.0   \n",
              "\n",
              "   review_scores_communication  review_scores_location  review_scores_value  \\\n",
              "0                         10.0                    10.0                 10.0   \n",
              "1                          9.0                    10.0                  9.0   \n",
              "2                         10.0                    10.0                 10.0   \n",
              "3                          9.0                    10.0                  9.0   \n",
              "4                         10.0                    10.0                 10.0   \n",
              "\n",
              "  review_date  \n",
              "0  2009-04-23  \n",
              "1  2009-05-06  \n",
              "2  2009-05-17  \n",
              "3  2009-05-23  \n",
              "4  2009-06-03  "
            ],
            "text/html": [
              "\n",
              "  <div id=\"df-f6b6c400-7ece-489f-b887-66410b987b3c\" class=\"colab-df-container\">\n",
              "    <div>\n",
              "<style scoped>\n",
              "    .dataframe tbody tr th:only-of-type {\n",
              "        vertical-align: middle;\n",
              "    }\n",
              "\n",
              "    .dataframe tbody tr th {\n",
              "        vertical-align: top;\n",
              "    }\n",
              "\n",
              "    .dataframe thead th {\n",
              "        text-align: right;\n",
              "    }\n",
              "</style>\n",
              "<table border=\"1\" class=\"dataframe\">\n",
              "  <thead>\n",
              "    <tr style=\"text-align: right;\">\n",
              "      <th></th>\n",
              "      <th>review_id</th>\n",
              "      <th>listing_id</th>\n",
              "      <th>reviewer_id</th>\n",
              "      <th>review_scores_rating</th>\n",
              "      <th>review_scores_accuracy</th>\n",
              "      <th>review_scores_cleanliness</th>\n",
              "      <th>review_scores_checkin</th>\n",
              "      <th>review_scores_communication</th>\n",
              "      <th>review_scores_location</th>\n",
              "      <th>review_scores_value</th>\n",
              "      <th>review_date</th>\n",
              "    </tr>\n",
              "  </thead>\n",
              "  <tbody>\n",
              "    <tr>\n",
              "      <th>0</th>\n",
              "      <td>1743</td>\n",
              "      <td>5803</td>\n",
              "      <td>9868</td>\n",
              "      <td>94.0</td>\n",
              "      <td>10.0</td>\n",
              "      <td>10.0</td>\n",
              "      <td>10.0</td>\n",
              "      <td>10.0</td>\n",
              "      <td>10.0</td>\n",
              "      <td>10.0</td>\n",
              "      <td>2009-04-23</td>\n",
              "    </tr>\n",
              "    <tr>\n",
              "      <th>1</th>\n",
              "      <td>2091</td>\n",
              "      <td>5178</td>\n",
              "      <td>8443</td>\n",
              "      <td>84.0</td>\n",
              "      <td>9.0</td>\n",
              "      <td>8.0</td>\n",
              "      <td>9.0</td>\n",
              "      <td>9.0</td>\n",
              "      <td>10.0</td>\n",
              "      <td>9.0</td>\n",
              "      <td>2009-05-06</td>\n",
              "    </tr>\n",
              "    <tr>\n",
              "      <th>2</th>\n",
              "      <td>2767</td>\n",
              "      <td>5803</td>\n",
              "      <td>16345</td>\n",
              "      <td>94.0</td>\n",
              "      <td>10.0</td>\n",
              "      <td>10.0</td>\n",
              "      <td>10.0</td>\n",
              "      <td>10.0</td>\n",
              "      <td>10.0</td>\n",
              "      <td>10.0</td>\n",
              "      <td>2009-05-17</td>\n",
              "    </tr>\n",
              "    <tr>\n",
              "      <th>3</th>\n",
              "      <td>3015</td>\n",
              "      <td>5178</td>\n",
              "      <td>15642</td>\n",
              "      <td>84.0</td>\n",
              "      <td>9.0</td>\n",
              "      <td>8.0</td>\n",
              "      <td>9.0</td>\n",
              "      <td>9.0</td>\n",
              "      <td>10.0</td>\n",
              "      <td>9.0</td>\n",
              "      <td>2009-05-23</td>\n",
              "    </tr>\n",
              "    <tr>\n",
              "      <th>4</th>\n",
              "      <td>3549</td>\n",
              "      <td>5803</td>\n",
              "      <td>19091</td>\n",
              "      <td>94.0</td>\n",
              "      <td>10.0</td>\n",
              "      <td>10.0</td>\n",
              "      <td>10.0</td>\n",
              "      <td>10.0</td>\n",
              "      <td>10.0</td>\n",
              "      <td>10.0</td>\n",
              "      <td>2009-06-03</td>\n",
              "    </tr>\n",
              "  </tbody>\n",
              "</table>\n",
              "</div>\n",
              "    <div class=\"colab-df-buttons\">\n",
              "\n",
              "  <div class=\"colab-df-container\">\n",
              "    <button class=\"colab-df-convert\" onclick=\"convertToInteractive('df-f6b6c400-7ece-489f-b887-66410b987b3c')\"\n",
              "            title=\"Convert this dataframe to an interactive table.\"\n",
              "            style=\"display:none;\">\n",
              "\n",
              "  <svg xmlns=\"http://www.w3.org/2000/svg\" height=\"24px\" viewBox=\"0 -960 960 960\">\n",
              "    <path d=\"M120-120v-720h720v720H120Zm60-500h600v-160H180v160Zm220 220h160v-160H400v160Zm0 220h160v-160H400v160ZM180-400h160v-160H180v160Zm440 0h160v-160H620v160ZM180-180h160v-160H180v160Zm440 0h160v-160H620v160Z\"/>\n",
              "  </svg>\n",
              "    </button>\n",
              "\n",
              "  <style>\n",
              "    .colab-df-container {\n",
              "      display:flex;\n",
              "      gap: 12px;\n",
              "    }\n",
              "\n",
              "    .colab-df-convert {\n",
              "      background-color: #E8F0FE;\n",
              "      border: none;\n",
              "      border-radius: 50%;\n",
              "      cursor: pointer;\n",
              "      display: none;\n",
              "      fill: #1967D2;\n",
              "      height: 32px;\n",
              "      padding: 0 0 0 0;\n",
              "      width: 32px;\n",
              "    }\n",
              "\n",
              "    .colab-df-convert:hover {\n",
              "      background-color: #E2EBFA;\n",
              "      box-shadow: 0px 1px 2px rgba(60, 64, 67, 0.3), 0px 1px 3px 1px rgba(60, 64, 67, 0.15);\n",
              "      fill: #174EA6;\n",
              "    }\n",
              "\n",
              "    .colab-df-buttons div {\n",
              "      margin-bottom: 4px;\n",
              "    }\n",
              "\n",
              "    [theme=dark] .colab-df-convert {\n",
              "      background-color: #3B4455;\n",
              "      fill: #D2E3FC;\n",
              "    }\n",
              "\n",
              "    [theme=dark] .colab-df-convert:hover {\n",
              "      background-color: #434B5C;\n",
              "      box-shadow: 0px 1px 3px 1px rgba(0, 0, 0, 0.15);\n",
              "      filter: drop-shadow(0px 1px 2px rgba(0, 0, 0, 0.3));\n",
              "      fill: #FFFFFF;\n",
              "    }\n",
              "  </style>\n",
              "\n",
              "    <script>\n",
              "      const buttonEl =\n",
              "        document.querySelector('#df-f6b6c400-7ece-489f-b887-66410b987b3c button.colab-df-convert');\n",
              "      buttonEl.style.display =\n",
              "        google.colab.kernel.accessAllowed ? 'block' : 'none';\n",
              "\n",
              "      async function convertToInteractive(key) {\n",
              "        const element = document.querySelector('#df-f6b6c400-7ece-489f-b887-66410b987b3c');\n",
              "        const dataTable =\n",
              "          await google.colab.kernel.invokeFunction('convertToInteractive',\n",
              "                                                    [key], {});\n",
              "        if (!dataTable) return;\n",
              "\n",
              "        const docLinkHtml = 'Like what you see? Visit the ' +\n",
              "          '<a target=\"_blank\" href=https://colab.research.google.com/notebooks/data_table.ipynb>data table notebook</a>'\n",
              "          + ' to learn more about interactive tables.';\n",
              "        element.innerHTML = '';\n",
              "        dataTable['output_type'] = 'display_data';\n",
              "        await google.colab.output.renderOutput(dataTable, element);\n",
              "        const docLink = document.createElement('div');\n",
              "        docLink.innerHTML = docLinkHtml;\n",
              "        element.appendChild(docLink);\n",
              "      }\n",
              "    </script>\n",
              "  </div>\n",
              "\n",
              "\n",
              "<div id=\"df-4f48d64a-d98c-41aa-b26f-93b60491a918\">\n",
              "  <button class=\"colab-df-quickchart\" onclick=\"quickchart('df-4f48d64a-d98c-41aa-b26f-93b60491a918')\"\n",
              "            title=\"Suggest charts\"\n",
              "            style=\"display:none;\">\n",
              "\n",
              "<svg xmlns=\"http://www.w3.org/2000/svg\" height=\"24px\"viewBox=\"0 0 24 24\"\n",
              "     width=\"24px\">\n",
              "    <g>\n",
              "        <path d=\"M19 3H5c-1.1 0-2 .9-2 2v14c0 1.1.9 2 2 2h14c1.1 0 2-.9 2-2V5c0-1.1-.9-2-2-2zM9 17H7v-7h2v7zm4 0h-2V7h2v10zm4 0h-2v-4h2v4z\"/>\n",
              "    </g>\n",
              "</svg>\n",
              "  </button>\n",
              "\n",
              "<style>\n",
              "  .colab-df-quickchart {\n",
              "      --bg-color: #E8F0FE;\n",
              "      --fill-color: #1967D2;\n",
              "      --hover-bg-color: #E2EBFA;\n",
              "      --hover-fill-color: #174EA6;\n",
              "      --disabled-fill-color: #AAA;\n",
              "      --disabled-bg-color: #DDD;\n",
              "  }\n",
              "\n",
              "  [theme=dark] .colab-df-quickchart {\n",
              "      --bg-color: #3B4455;\n",
              "      --fill-color: #D2E3FC;\n",
              "      --hover-bg-color: #434B5C;\n",
              "      --hover-fill-color: #FFFFFF;\n",
              "      --disabled-bg-color: #3B4455;\n",
              "      --disabled-fill-color: #666;\n",
              "  }\n",
              "\n",
              "  .colab-df-quickchart {\n",
              "    background-color: var(--bg-color);\n",
              "    border: none;\n",
              "    border-radius: 50%;\n",
              "    cursor: pointer;\n",
              "    display: none;\n",
              "    fill: var(--fill-color);\n",
              "    height: 32px;\n",
              "    padding: 0;\n",
              "    width: 32px;\n",
              "  }\n",
              "\n",
              "  .colab-df-quickchart:hover {\n",
              "    background-color: var(--hover-bg-color);\n",
              "    box-shadow: 0 1px 2px rgba(60, 64, 67, 0.3), 0 1px 3px 1px rgba(60, 64, 67, 0.15);\n",
              "    fill: var(--button-hover-fill-color);\n",
              "  }\n",
              "\n",
              "  .colab-df-quickchart-complete:disabled,\n",
              "  .colab-df-quickchart-complete:disabled:hover {\n",
              "    background-color: var(--disabled-bg-color);\n",
              "    fill: var(--disabled-fill-color);\n",
              "    box-shadow: none;\n",
              "  }\n",
              "\n",
              "  .colab-df-spinner {\n",
              "    border: 2px solid var(--fill-color);\n",
              "    border-color: transparent;\n",
              "    border-bottom-color: var(--fill-color);\n",
              "    animation:\n",
              "      spin 1s steps(1) infinite;\n",
              "  }\n",
              "\n",
              "  @keyframes spin {\n",
              "    0% {\n",
              "      border-color: transparent;\n",
              "      border-bottom-color: var(--fill-color);\n",
              "      border-left-color: var(--fill-color);\n",
              "    }\n",
              "    20% {\n",
              "      border-color: transparent;\n",
              "      border-left-color: var(--fill-color);\n",
              "      border-top-color: var(--fill-color);\n",
              "    }\n",
              "    30% {\n",
              "      border-color: transparent;\n",
              "      border-left-color: var(--fill-color);\n",
              "      border-top-color: var(--fill-color);\n",
              "      border-right-color: var(--fill-color);\n",
              "    }\n",
              "    40% {\n",
              "      border-color: transparent;\n",
              "      border-right-color: var(--fill-color);\n",
              "      border-top-color: var(--fill-color);\n",
              "    }\n",
              "    60% {\n",
              "      border-color: transparent;\n",
              "      border-right-color: var(--fill-color);\n",
              "    }\n",
              "    80% {\n",
              "      border-color: transparent;\n",
              "      border-right-color: var(--fill-color);\n",
              "      border-bottom-color: var(--fill-color);\n",
              "    }\n",
              "    90% {\n",
              "      border-color: transparent;\n",
              "      border-bottom-color: var(--fill-color);\n",
              "    }\n",
              "  }\n",
              "</style>\n",
              "\n",
              "  <script>\n",
              "    async function quickchart(key) {\n",
              "      const quickchartButtonEl =\n",
              "        document.querySelector('#' + key + ' button');\n",
              "      quickchartButtonEl.disabled = true;  // To prevent multiple clicks.\n",
              "      quickchartButtonEl.classList.add('colab-df-spinner');\n",
              "      try {\n",
              "        const charts = await google.colab.kernel.invokeFunction(\n",
              "            'suggestCharts', [key], {});\n",
              "      } catch (error) {\n",
              "        console.error('Error during call to suggestCharts:', error);\n",
              "      }\n",
              "      quickchartButtonEl.classList.remove('colab-df-spinner');\n",
              "      quickchartButtonEl.classList.add('colab-df-quickchart-complete');\n",
              "    }\n",
              "    (() => {\n",
              "      let quickchartButtonEl =\n",
              "        document.querySelector('#df-4f48d64a-d98c-41aa-b26f-93b60491a918 button');\n",
              "      quickchartButtonEl.style.display =\n",
              "        google.colab.kernel.accessAllowed ? 'block' : 'none';\n",
              "    })();\n",
              "  </script>\n",
              "</div>\n",
              "\n",
              "    </div>\n",
              "  </div>\n"
            ],
            "application/vnd.google.colaboratory.intrinsic+json": {
              "type": "dataframe",
              "variable_name": "reviews"
            }
          },
          "metadata": {},
          "execution_count": 23
        }
      ]
    },
    {
      "cell_type": "code",
      "source": [
        "# Cek tipe data: DataFrame (df)\n",
        "print(type(reviews))\n",
        "# Ukuran data\n",
        "reviews.shape"
      ],
      "metadata": {
        "colab": {
          "base_uri": "https://localhost:8080/"
        },
        "outputId": "3ea0066e-2bbf-4bcd-dd2e-5e9e6cbc67b4",
        "id": "KzzHCuyD_vJQ"
      },
      "execution_count": 24,
      "outputs": [
        {
          "output_type": "stream",
          "name": "stdout",
          "text": [
            "<class 'pandas.core.frame.DataFrame'>\n"
          ]
        },
        {
          "output_type": "execute_result",
          "data": {
            "text/plain": [
              "(514467, 11)"
            ]
          },
          "metadata": {},
          "execution_count": 24
        }
      ]
    },
    {
      "cell_type": "code",
      "source": [
        "reviews.columns"
      ],
      "metadata": {
        "colab": {
          "base_uri": "https://localhost:8080/"
        },
        "outputId": "93e9ec9b-a439-4644-f03c-ea790f5f348c",
        "id": "P4Vd-w05_vJQ"
      },
      "execution_count": 25,
      "outputs": [
        {
          "output_type": "execute_result",
          "data": {
            "text/plain": [
              "Index(['review_id', 'listing_id', 'reviewer_id', 'review_scores_rating',\n",
              "       'review_scores_accuracy', 'review_scores_cleanliness',\n",
              "       'review_scores_checkin', 'review_scores_communication',\n",
              "       'review_scores_location', 'review_scores_value', 'review_date'],\n",
              "      dtype='object')"
            ]
          },
          "metadata": {},
          "execution_count": 25
        }
      ]
    },
    {
      "cell_type": "code",
      "source": [
        "# Memeriksa apakah ada duplikat data\n",
        "duplicate_reviews = reviews[reviews.duplicated(subset=['review_id'], keep=False)]\n",
        "\n",
        "if not duplicate_reviews.empty:\n",
        "  print(\"Terdapat data reviews yang terduplikasi.:\")\n",
        "  print(duplicate_reviews[['review_id']])\n",
        "else:\n",
        "  print(\"Tidak terdapat data reviews yang terduplikasi.\")"
      ],
      "metadata": {
        "colab": {
          "base_uri": "https://localhost:8080/"
        },
        "outputId": "16e0cf64-e4fe-4cca-bb7f-c4d1ef860fa0",
        "id": "ziy7GxzI_vJR"
      },
      "execution_count": 27,
      "outputs": [
        {
          "output_type": "stream",
          "name": "stdout",
          "text": [
            "Tidak terdapat data reviews yang terduplikasi.\n"
          ]
        }
      ]
    },
    {
      "cell_type": "code",
      "source": [
        "# Memeriksa tipe data pada tiap kolom\n",
        "reviews.info()"
      ],
      "metadata": {
        "colab": {
          "base_uri": "https://localhost:8080/"
        },
        "outputId": "94738b7b-883c-47ca-ba92-1138cc328722",
        "id": "AdJJA_7L_vJR"
      },
      "execution_count": 28,
      "outputs": [
        {
          "output_type": "stream",
          "name": "stdout",
          "text": [
            "<class 'pandas.core.frame.DataFrame'>\n",
            "RangeIndex: 514467 entries, 0 to 514466\n",
            "Data columns (total 11 columns):\n",
            " #   Column                       Non-Null Count   Dtype  \n",
            "---  ------                       --------------   -----  \n",
            " 0   review_id                    514467 non-null  int64  \n",
            " 1   listing_id                   514467 non-null  int64  \n",
            " 2   reviewer_id                  514467 non-null  int64  \n",
            " 3   review_scores_rating         514467 non-null  float64\n",
            " 4   review_scores_accuracy       514467 non-null  float64\n",
            " 5   review_scores_cleanliness    514467 non-null  float64\n",
            " 6   review_scores_checkin        514467 non-null  float64\n",
            " 7   review_scores_communication  514467 non-null  float64\n",
            " 8   review_scores_location       514467 non-null  float64\n",
            " 9   review_scores_value          514467 non-null  float64\n",
            " 10  review_date                  514467 non-null  object \n",
            "dtypes: float64(7), int64(3), object(1)\n",
            "memory usage: 43.2+ MB\n"
          ]
        }
      ]
    },
    {
      "cell_type": "markdown",
      "source": [
        "Diketahui:\n",
        "- Terdapat 11 kolom dengan 514.467 baris. Artinya, terdapat 514.467 reviews yang terdata dalam data ini.\n",
        "- Tidak terdapat missing value.\n",
        "- Tidak terdapat data yang terduplikasi."
      ],
      "metadata": {
        "id": "2LEGr6_d_vJS"
      }
    }
  ]
}